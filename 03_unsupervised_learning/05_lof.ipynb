{
 "cells": [
  {
   "cell_type": "markdown",
   "id": "af08c67c",
   "metadata": {},
   "source": [
    "# Detección de anomalías LOF (Local Outlier Factor )"
   ]
  },
  {
   "cell_type": "markdown",
   "id": "c8d8ef96",
   "metadata": {},
   "source": [
    "Importar dependencias"
   ]
  },
  {
   "cell_type": "code",
   "execution_count": 1,
   "id": "32906242",
   "metadata": {},
   "outputs": [],
   "source": [
    "import numpy as np\n",
    "import pandas as pd\n",
    "import matplotlib.pyplot as plt\n",
    "import seaborn as sns\n",
    "\n",
    "from sklearn.preprocessing import StandardScaler\n",
    "from sklearn.neighbors import LocalOutlierFactor"
   ]
  },
  {
   "cell_type": "markdown",
   "id": "dfd9d2c7",
   "metadata": {},
   "source": [
    "Generación de datos sintéticos"
   ]
  },
  {
   "cell_type": "code",
   "execution_count": 2,
   "id": "db29c832",
   "metadata": {},
   "outputs": [],
   "source": [
    "np.random.seed(42)\n",
    "\n",
    "# Datos normales (98 puntos)\n",
    "X_inliers = np.random.normal(loc=0.0, scale=1.0, size=(98, 2))\n",
    "\n",
    "# Datos outliers (2 puntos)\n",
    "X_outliers = np.random.uniform(low=-6, high=6, size=(2, 2))\n",
    "\n",
    "# Unión de datos\n",
    "X = np.vstack((X_inliers, X_outliers))\n",
    "df = pd.DataFrame(X, columns=['feature_1', 'feature_2'])"
   ]
  },
  {
   "cell_type": "markdown",
   "id": "021680f5",
   "metadata": {},
   "source": [
    "Análisis exploratorio de datos (EDA)"
   ]
  },
  {
   "cell_type": "code",
   "execution_count": 3,
   "id": "22b509d4",
   "metadata": {},
   "outputs": [
    {
     "name": "stdout",
     "output_type": "stream",
     "text": [
      "\n",
      "Visualización preliminar de los datos:\n"
     ]
    },
    {
     "data": {
      "text/html": [
       "<div>\n",
       "<style scoped>\n",
       "    .dataframe tbody tr th:only-of-type {\n",
       "        vertical-align: middle;\n",
       "    }\n",
       "\n",
       "    .dataframe tbody tr th {\n",
       "        vertical-align: top;\n",
       "    }\n",
       "\n",
       "    .dataframe thead th {\n",
       "        text-align: right;\n",
       "    }\n",
       "</style>\n",
       "<table border=\"1\" class=\"dataframe\">\n",
       "  <thead>\n",
       "    <tr style=\"text-align: right;\">\n",
       "      <th></th>\n",
       "      <th>feature_1</th>\n",
       "      <th>feature_2</th>\n",
       "    </tr>\n",
       "  </thead>\n",
       "  <tbody>\n",
       "    <tr>\n",
       "      <th>0</th>\n",
       "      <td>0.496714</td>\n",
       "      <td>-0.138264</td>\n",
       "    </tr>\n",
       "    <tr>\n",
       "      <th>1</th>\n",
       "      <td>0.647689</td>\n",
       "      <td>1.523030</td>\n",
       "    </tr>\n",
       "    <tr>\n",
       "      <th>2</th>\n",
       "      <td>-0.234153</td>\n",
       "      <td>-0.234137</td>\n",
       "    </tr>\n",
       "    <tr>\n",
       "      <th>3</th>\n",
       "      <td>1.579213</td>\n",
       "      <td>0.767435</td>\n",
       "    </tr>\n",
       "    <tr>\n",
       "      <th>4</th>\n",
       "      <td>-0.469474</td>\n",
       "      <td>0.542560</td>\n",
       "    </tr>\n",
       "  </tbody>\n",
       "</table>\n",
       "</div>"
      ],
      "text/plain": [
       "   feature_1  feature_2\n",
       "0   0.496714  -0.138264\n",
       "1   0.647689   1.523030\n",
       "2  -0.234153  -0.234137\n",
       "3   1.579213   0.767435\n",
       "4  -0.469474   0.542560"
      ]
     },
     "execution_count": 3,
     "metadata": {},
     "output_type": "execute_result"
    }
   ],
   "source": [
    "print(\"\\nVisualización preliminar de los datos:\")\n",
    "df.head()"
   ]
  },
  {
   "cell_type": "code",
   "execution_count": 4,
   "id": "35a99068",
   "metadata": {},
   "outputs": [
    {
     "name": "stdout",
     "output_type": "stream",
     "text": [
      "\n",
      "Descripción de los datos:\n"
     ]
    },
    {
     "data": {
      "text/html": [
       "<div>\n",
       "<style scoped>\n",
       "    .dataframe tbody tr th:only-of-type {\n",
       "        vertical-align: middle;\n",
       "    }\n",
       "\n",
       "    .dataframe tbody tr th {\n",
       "        vertical-align: top;\n",
       "    }\n",
       "\n",
       "    .dataframe thead th {\n",
       "        text-align: right;\n",
       "    }\n",
       "</style>\n",
       "<table border=\"1\" class=\"dataframe\">\n",
       "  <thead>\n",
       "    <tr style=\"text-align: right;\">\n",
       "      <th></th>\n",
       "      <th>feature_1</th>\n",
       "      <th>feature_2</th>\n",
       "    </tr>\n",
       "  </thead>\n",
       "  <tbody>\n",
       "    <tr>\n",
       "      <th>count</th>\n",
       "      <td>100.000000</td>\n",
       "      <td>100.000000</td>\n",
       "    </tr>\n",
       "    <tr>\n",
       "      <th>mean</th>\n",
       "      <td>-0.085100</td>\n",
       "      <td>0.054382</td>\n",
       "    </tr>\n",
       "    <tr>\n",
       "      <th>std</th>\n",
       "      <td>0.870575</td>\n",
       "      <td>1.252120</td>\n",
       "    </tr>\n",
       "    <tr>\n",
       "      <th>min</th>\n",
       "      <td>-2.619745</td>\n",
       "      <td>-4.833882</td>\n",
       "    </tr>\n",
       "    <tr>\n",
       "      <th>25%</th>\n",
       "      <td>-0.685532</td>\n",
       "      <td>-0.662428</td>\n",
       "    </tr>\n",
       "    <tr>\n",
       "      <th>50%</th>\n",
       "      <td>-0.024104</td>\n",
       "      <td>0.141145</td>\n",
       "    </tr>\n",
       "    <tr>\n",
       "      <th>75%</th>\n",
       "      <td>0.389536</td>\n",
       "      <td>0.723484</td>\n",
       "    </tr>\n",
       "    <tr>\n",
       "      <th>max</th>\n",
       "      <td>1.886186</td>\n",
       "      <td>5.880646</td>\n",
       "    </tr>\n",
       "  </tbody>\n",
       "</table>\n",
       "</div>"
      ],
      "text/plain": [
       "        feature_1   feature_2\n",
       "count  100.000000  100.000000\n",
       "mean    -0.085100    0.054382\n",
       "std      0.870575    1.252120\n",
       "min     -2.619745   -4.833882\n",
       "25%     -0.685532   -0.662428\n",
       "50%     -0.024104    0.141145\n",
       "75%      0.389536    0.723484\n",
       "max      1.886186    5.880646"
      ]
     },
     "execution_count": 4,
     "metadata": {},
     "output_type": "execute_result"
    }
   ],
   "source": [
    "print(\"\\nDescripción de los datos:\")\n",
    "df.describe()"
   ]
  },
  {
   "cell_type": "code",
   "execution_count": 5,
   "id": "af2a582e",
   "metadata": {},
   "outputs": [
    {
     "name": "stdout",
     "output_type": "stream",
     "text": [
      "\n",
      "Valores nulos:\n",
      "feature_1    0\n",
      "feature_2    0\n",
      "dtype: int64\n"
     ]
    }
   ],
   "source": [
    "print(\"\\nValores nulos:\")\n",
    "print(df.isnull().sum())"
   ]
  },
  {
   "cell_type": "code",
   "execution_count": 6,
   "id": "aad2e812",
   "metadata": {},
   "outputs": [
    {
     "name": "stdout",
     "output_type": "stream",
     "text": [
      "\n",
      "Gráfico de dispersión:\n"
     ]
    },
    {
     "data": {
      "image/png": "[encoded data removed]",
      "text/plain": [
       "<Figure size 600x600 with 1 Axes>"
      ]
     },
     "metadata": {},
     "output_type": "display_data"
    }
   ],
   "source": [
    "print(\"\\nGráfico de dispersión:\")\n",
    "plt.figure(figsize=(6, 6))\n",
    "sns.scatterplot(x='feature_1', y='feature_2', data=df)\n",
    "plt.title('Distribución de los datos')\n",
    "plt.grid(True)\n",
    "plt.show()"
   ]
  },
  {
   "cell_type": "markdown",
   "id": "d31e1d99",
   "metadata": {},
   "source": [
    "Transformación de variables"
   ]
  },
  {
   "cell_type": "code",
   "execution_count": 8,
   "id": "6aece7f7",
   "metadata": {},
   "outputs": [],
   "source": [
    "scaler = StandardScaler()\n",
    "X_scaled = scaler.fit_transform(df)"
   ]
  },
  {
   "cell_type": "markdown",
   "id": "559aff70",
   "metadata": {},
   "source": [
    "Creación del modelo"
   ]
  },
  {
   "cell_type": "code",
   "execution_count": 9,
   "id": "6bf0c013",
   "metadata": {},
   "outputs": [],
   "source": [
    "lof = LocalOutlierFactor(n_neighbors=20, contamination=0.05)  # Suponemos 5% de outliers\n",
    "y_pred = lof.fit_predict(X_scaled)\n"
   ]
  },
  {
   "cell_type": "code",
   "execution_count": 11,
   "id": "1d89e96c",
   "metadata": {},
   "outputs": [
    {
     "data": {
      "text/plain": [
       "array([-1.00461388, -1.13817319, -0.95195305, -1.36427123, -0.97221423,\n",
       "       -0.96632276, -1.21121421, -1.21702597, -1.02161578, -1.16580123,\n",
       "       -1.23861056, -1.08834178, -0.97061709, -1.03356774, -0.97753181,\n",
       "       -1.31342631, -1.06081513, -1.14721283, -1.22612172, -1.07220455,\n",
       "       -1.02503971, -0.94627613, -1.14473223, -1.04423781, -1.16498947,\n",
       "       -0.97801433, -0.99637235, -1.17990301, -0.98604926, -1.02721007,\n",
       "       -0.95932224, -1.15990621, -1.12065176, -0.98888806, -0.99333948,\n",
       "       -1.16963616, -1.17804588, -2.09345768, -0.95343748, -1.20597827,\n",
       "       -0.95315343, -1.25682253, -1.02067184, -1.12023701, -0.97857562,\n",
       "       -0.98692272, -0.97616451, -1.14128613, -0.96715793, -0.9606252 ,\n",
       "       -1.08160692, -0.97751868, -0.94798994, -1.43836178, -0.96413433,\n",
       "       -1.31382418, -1.41351493, -0.94758126, -1.08170684, -1.23458466,\n",
       "       -1.11060141, -1.40816345, -1.31613959, -1.0567026 , -0.9754285 ,\n",
       "       -1.12872105, -1.03069579, -1.24288988, -0.98092216, -1.14698801,\n",
       "       -1.10583274, -1.16726937, -0.98961916, -1.24354489, -1.01689114,\n",
       "       -0.96891651, -0.98972981, -0.98828667, -1.4562598 , -1.10008215,\n",
       "       -1.08422278, -1.21615014, -1.13833864, -1.25120684, -0.97195471,\n",
       "       -1.08702081, -0.95650493, -1.00361354, -1.14820304, -1.57166463,\n",
       "       -1.04543052, -1.03323219, -0.96693982, -0.99583259, -1.16564501,\n",
       "       -0.99981764, -1.06853554, -0.96135419, -3.11565874, -3.86729294])"
      ]
     },
     "execution_count": 11,
     "metadata": {},
     "output_type": "execute_result"
    }
   ],
   "source": [
    "lof.negative_outlier_factor_"
   ]
  },
  {
   "cell_type": "markdown",
   "id": "b4680c52",
   "metadata": {},
   "source": [
    "Visualización de predicciones (-1 = outlier, 1 = inlier)"
   ]
  },
  {
   "cell_type": "code",
   "execution_count": 13,
   "id": "3a035501",
   "metadata": {},
   "outputs": [
    {
     "data": {
      "text/plain": [
       "array([ 1,  1,  1,  1,  1,  1,  1,  1,  1,  1,  1,  1,  1,  1,  1,  1,  1,\n",
       "        1,  1,  1,  1,  1,  1,  1,  1,  1,  1,  1,  1,  1,  1,  1,  1,  1,\n",
       "        1,  1,  1, -1,  1,  1,  1,  1,  1,  1,  1,  1,  1,  1,  1,  1,  1,\n",
       "        1,  1,  1,  1,  1,  1,  1,  1,  1,  1,  1,  1,  1,  1,  1,  1,  1,\n",
       "        1,  1,  1,  1,  1,  1,  1,  1,  1,  1, -1,  1,  1,  1,  1,  1,  1,\n",
       "        1,  1,  1,  1, -1,  1,  1,  1,  1,  1,  1,  1,  1, -1, -1])"
      ]
     },
     "execution_count": 13,
     "metadata": {},
     "output_type": "execute_result"
    }
   ],
   "source": [
    "y_pred"
   ]
  },
  {
   "cell_type": "code",
   "execution_count": 10,
   "id": "212a85b6",
   "metadata": {},
   "outputs": [],
   "source": [
    "df['lof_score'] = lof.negative_outlier_factor_\n",
    "df['outlier'] = y_pred"
   ]
  },
  {
   "cell_type": "markdown",
   "id": "f6097d8b",
   "metadata": {},
   "source": [
    "Visualización de resultados"
   ]
  },
  {
   "cell_type": "code",
   "execution_count": 14,
   "id": "486698c9",
   "metadata": {},
   "outputs": [
    {
     "data": {
      "image/png": "[encoded data removed]",
      "text/plain": [
       "<Figure size 600x600 with 1 Axes>"
      ]
     },
     "metadata": {},
     "output_type": "display_data"
    }
   ],
   "source": [
    "plt.figure(figsize=(6, 6))\n",
    "sns.scatterplot(\n",
    "    x='feature_1', y='feature_2', data=df, hue='outlier',\n",
    "    palette={1: 'blue', -1: 'red'}, style='outlier'\n",
    ")\n",
    "plt.title('LOF - Detección de Outliers')\n",
    "plt.grid(True)\n",
    "plt.legend(title='Outlier')\n",
    "plt.show()"
   ]
  },
  {
   "cell_type": "markdown",
   "id": "ca72d388",
   "metadata": {},
   "source": [
    "Outliers detectados"
   ]
  },
  {
   "cell_type": "code",
   "execution_count": 15,
   "id": "14fe881e",
   "metadata": {},
   "outputs": [
    {
     "name": "stdout",
     "output_type": "stream",
     "text": [
      "Outliers detectados:\n"
     ]
    },
    {
     "data": {
      "text/html": [
       "<div>\n",
       "<style scoped>\n",
       "    .dataframe tbody tr th:only-of-type {\n",
       "        vertical-align: middle;\n",
       "    }\n",
       "\n",
       "    .dataframe tbody tr th {\n",
       "        vertical-align: top;\n",
       "    }\n",
       "\n",
       "    .dataframe thead th {\n",
       "        text-align: right;\n",
       "    }\n",
       "</style>\n",
       "<table border=\"1\" class=\"dataframe\">\n",
       "  <thead>\n",
       "    <tr style=\"text-align: right;\">\n",
       "      <th></th>\n",
       "      <th>feature_1</th>\n",
       "      <th>feature_2</th>\n",
       "      <th>lof_score</th>\n",
       "      <th>outlier</th>\n",
       "    </tr>\n",
       "  </thead>\n",
       "  <tbody>\n",
       "    <tr>\n",
       "      <th>37</th>\n",
       "      <td>-2.619745</td>\n",
       "      <td>0.821903</td>\n",
       "      <td>-2.093458</td>\n",
       "      <td>-1</td>\n",
       "    </tr>\n",
       "    <tr>\n",
       "      <th>78</th>\n",
       "      <td>1.865775</td>\n",
       "      <td>0.473833</td>\n",
       "      <td>-1.456260</td>\n",
       "      <td>-1</td>\n",
       "    </tr>\n",
       "    <tr>\n",
       "      <th>89</th>\n",
       "      <td>-0.264657</td>\n",
       "      <td>2.720169</td>\n",
       "      <td>-1.571665</td>\n",
       "      <td>-1</td>\n",
       "    </tr>\n",
       "    <tr>\n",
       "      <th>98</th>\n",
       "      <td>0.840734</td>\n",
       "      <td>-4.833882</td>\n",
       "      <td>-3.115659</td>\n",
       "      <td>-1</td>\n",
       "    </tr>\n",
       "    <tr>\n",
       "      <th>99</th>\n",
       "      <td>1.380087</td>\n",
       "      <td>5.880646</td>\n",
       "      <td>-3.867293</td>\n",
       "      <td>-1</td>\n",
       "    </tr>\n",
       "  </tbody>\n",
       "</table>\n",
       "</div>"
      ],
      "text/plain": [
       "    feature_1  feature_2  lof_score  outlier\n",
       "37  -2.619745   0.821903  -2.093458       -1\n",
       "78   1.865775   0.473833  -1.456260       -1\n",
       "89  -0.264657   2.720169  -1.571665       -1\n",
       "98   0.840734  -4.833882  -3.115659       -1\n",
       "99   1.380087   5.880646  -3.867293       -1"
      ]
     },
     "metadata": {},
     "output_type": "display_data"
    }
   ],
   "source": [
    "outliers_detected = df[df['outlier'] == -1]\n",
    "print(\"Outliers detectados:\")\n",
    "display(outliers_detected)"
   ]
  },
  {
   "cell_type": "code",
   "execution_count": null,
   "id": "c411afcb",
   "metadata": {},
   "outputs": [],
   "source": []
  }
 ],
 "metadata": {
  "kernelspec": {
   "display_name": "machine-learning-examples",
   "language": "python",
   "name": "python3"
  },
  "language_info": {
   "codemirror_mode": {
    "name": "ipython",
    "version": 3
   },
   "file_extension": ".py",
   "mimetype": "text/x-python",
   "name": "python",
   "nbconvert_exporter": "python",
   "pygments_lexer": "ipython3",
   "version": "3.10.16"
  }
 },
 "nbformat": 4,
 "nbformat_minor": 5
}
