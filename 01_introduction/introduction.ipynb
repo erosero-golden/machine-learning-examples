{
 "cells": [
  {
   "cell_type": "markdown",
   "id": "25c3e1239f5878ab",
   "metadata": {},
   "source": [
    "# Introducción a Python para Ciencia de Datos y Machine Learning"
   ]
  },
  {
   "cell_type": "markdown",
   "id": "a0c72232",
   "metadata": {},
   "source": [
    "## 0. Instalación de Bibliotecas"
   ]
  },
  {
   "cell_type": "markdown",
   "id": "13b689e7",
   "metadata": {},
   "source": [
    "```bash\n",
    "# Para instalar todas las bibliotecas:\n",
    "conda install numpy pandas matplotlib scipy scikit-learn tensorflow keras pytorch\n",
    "```"
   ]
  },
  {
   "cell_type": "markdown",
   "id": "3f3af8b8f47380c",
   "metadata": {},
   "source": [
    "## 1. Introducción a Python Básico\n",
    "### 1.1 Variables y Tipos de Datos"
   ]
  },
  {
   "cell_type": "code",
   "execution_count": null,
   "id": "initial_id",
   "metadata": {
    "ExecuteTime": {
     "end_time": "2025-04-30T23:05:15.668192Z",
     "start_time": "2025-04-30T23:05:15.652422Z"
    },
    "collapsed": true
   },
   "outputs": [],
   "source": [
    "entero = 10\n",
    "flotante = 3.14\n",
    "cadena = \"Hola Python\"\n",
    "booleano = True\n",
    "lista = [1, 2, 3]\n",
    "diccionario = {\"nombre\": \"Juan\", \"edad\": 25}\n",
    "conjunto = {1, 2, 3}\n",
    "tupla = (1, 2, 3)\n",
    "\n",
    "print(f\"Entero: {entero}, Tipo: {type(entero)}\")\n",
    "print(f\"Flotante: {flotante}, Tipo: {type(flotante)}\")\n",
    "print(f\"Cadena: {cadena}, Tipo: {type(cadena)}\")\n",
    "print(f\"Booleano: {booleano}, Tipo: {type(booleano)}\")\n",
    "print(f\"Lista: {lista}, Tipo: {type(lista)}\")\n",
    "print(f\"Diccionario: {diccionario}, Tipo: {type(diccionario)}\")\n",
    "print(f\"Conjunto: {conjunto}, Tipo: {type(conjunto)}\")\n",
    "print(f\"Tupla: {tupla}, Tipo: {type(tupla)}\")\n"
   ]
  },
  {
   "cell_type": "markdown",
   "id": "98977aa3f66da333",
   "metadata": {},
   "source": [
    "### 1.2 Estructuras de Control"
   ]
  },
  {
   "cell_type": "code",
   "execution_count": null,
   "id": "d73f7ed6274752ac",
   "metadata": {
    "ExecuteTime": {
     "end_time": "2025-04-30T23:06:16.457074Z",
     "start_time": "2025-04-30T23:06:16.454448Z"
    }
   },
   "outputs": [],
   "source": [
    "# Condicionales\n",
    "edad = 18\n",
    "if edad >= 18:\n",
    "    print(\"Mayor de edad\")\n",
    "else:\n",
    "    print(\"Menor de edad\")"
   ]
  },
  {
   "cell_type": "code",
   "execution_count": null,
   "id": "d71c5b7946b04c30",
   "metadata": {
    "ExecuteTime": {
     "end_time": "2025-04-30T23:06:33.204508Z",
     "start_time": "2025-04-30T23:06:33.201419Z"
    }
   },
   "outputs": [],
   "source": [
    "# Bucles\n",
    "print(\"\\nBucle for:\")\n",
    "for i in range(3):\n",
    "    print(f\"Iteración {i+1}\")"
   ]
  },
  {
   "cell_type": "code",
   "execution_count": null,
   "id": "2e63b01c960a4bf6",
   "metadata": {
    "ExecuteTime": {
     "end_time": "2025-04-30T23:06:35.477048Z",
     "start_time": "2025-04-30T23:06:35.474544Z"
    }
   },
   "outputs": [],
   "source": [
    "print(\"\\nBucle while:\")\n",
    "contador = 0\n",
    "while contador < 3:\n",
    "    print(contador)\n",
    "    contador += 1"
   ]
  },
  {
   "cell_type": "markdown",
   "id": "f94bab81fed8412d",
   "metadata": {},
   "source": [
    "### 1.3 Funciones"
   ]
  },
  {
   "cell_type": "code",
   "execution_count": null,
   "id": "5ab06399b67380cd",
   "metadata": {
    "ExecuteTime": {
     "end_time": "2025-04-30T23:07:08.231090Z",
     "start_time": "2025-04-30T23:07:08.228252Z"
    }
   },
   "outputs": [],
   "source": [
    "def suma(a, b):\n",
    "    \"\"\"Suma dos números y devuelve el resultado\"\"\"\n",
    "    return a + b\n",
    "\n",
    "resultado = suma(5, 3)\n",
    "print(f\"5 + 3 = {resultado}\")"
   ]
  },
  {
   "cell_type": "markdown",
   "id": "cd9595083a8f1e21",
   "metadata": {},
   "source": [
    "### 1.4 Clases y Objetos"
   ]
  },
  {
   "cell_type": "code",
   "execution_count": null,
   "id": "4d18d9fdc63ffd54",
   "metadata": {
    "ExecuteTime": {
     "end_time": "2025-04-30T23:09:36.659263Z",
     "start_time": "2025-04-30T23:09:36.655941Z"
    }
   },
   "outputs": [],
   "source": [
    "class Perro:\n",
    "    def __init__(self, nombre, edad):\n",
    "        self.nombre = nombre\n",
    "        self.edad = edad\n",
    "\n",
    "    def ladrar(self):\n",
    "        print(\"¡Guau!\")\n",
    "\n",
    "    # def __str__(self):\n",
    "    #     return f\"Mi perro se llama {self.nombre} y tiene {self.edad} años\"\n",
    "\n",
    "mi_perro = Perro(\"Buddy\", 3)\n",
    "print(f\"Mi perro se llama {mi_perro.nombre} y tiene {mi_perro.edad} años\")\n",
    "mi_perro.ladrar()"
   ]
  },
  {
   "cell_type": "code",
   "execution_count": null,
   "id": "e3efdacbe1e08098",
   "metadata": {
    "ExecuteTime": {
     "end_time": "2025-04-30T23:09:39.491462Z",
     "start_time": "2025-04-30T23:09:39.487860Z"
    }
   },
   "outputs": [],
   "source": [
    "print(mi_perro)"
   ]
  },
  {
   "cell_type": "markdown",
   "id": "df9d2d592d18ccd5",
   "metadata": {},
   "source": [
    "## 2. Principales Bibliotecas\n",
    "### 2.1 NumPy (Cálculo Numérico)"
   ]
  },
  {
   "cell_type": "code",
   "execution_count": 12,
   "id": "e7ebb3c4b31473a1",
   "metadata": {
    "ExecuteTime": {
     "end_time": "2025-04-30T23:10:08.531338Z",
     "start_time": "2025-04-30T23:10:08.217410Z"
    }
   },
   "outputs": [],
   "source": [
    "import numpy as np"
   ]
  },
  {
   "cell_type": "code",
   "execution_count": null,
   "id": "9e1adfd04d4728ff",
   "metadata": {
    "ExecuteTime": {
     "end_time": "2025-04-30T23:10:18.118288Z",
     "start_time": "2025-04-30T23:10:18.096813Z"
    }
   },
   "outputs": [],
   "source": [
    "# Crear arrays\n",
    "arr = np.array([1, 2, 3, 4, 5])\n",
    "print(\"Array original:\", arr)\n"
   ]
  },
  {
   "cell_type": "code",
   "execution_count": null,
   "id": "2e99fffc785e7664",
   "metadata": {
    "ExecuteTime": {
     "end_time": "2025-04-30T23:10:23.717073Z",
     "start_time": "2025-04-30T23:10:23.704624Z"
    }
   },
   "outputs": [],
   "source": [
    "# Operaciones matemáticas\n",
    "print(\"\\nArray + 2:\", arr + 2)\n",
    "print(\"Media:\", np.mean(arr))"
   ]
  },
  {
   "cell_type": "code",
   "execution_count": null,
   "id": "f08216d0cfaf23c0",
   "metadata": {
    "ExecuteTime": {
     "end_time": "2025-04-30T23:10:34.618286Z",
     "start_time": "2025-04-30T23:10:34.604868Z"
    }
   },
   "outputs": [],
   "source": [
    "# Matrices\n",
    "matriz = np.array([[1, 2], [3, 4]])\n",
    "print(\"\\nMatriz:\\n\", matriz)\n",
    "print(\"Determinante:\", np.linalg.det(matriz))\n"
   ]
  },
  {
   "cell_type": "markdown",
   "id": "d4d80e4eb7a4af87",
   "metadata": {},
   "source": [
    "### 2.2 Pandas (Análisis de Datos)\n"
   ]
  },
  {
   "cell_type": "code",
   "execution_count": 1,
   "id": "207cde7bf7272803",
   "metadata": {
    "ExecuteTime": {
     "end_time": "2025-04-30T23:15:41.889341Z",
     "start_time": "2025-04-30T23:15:41.278666Z"
    }
   },
   "outputs": [],
   "source": [
    "import pandas as pd"
   ]
  },
  {
   "cell_type": "code",
   "execution_count": 16,
   "id": "e3d3fe934e94fb61",
   "metadata": {},
   "outputs": [
    {
     "data": {
      "text/html": [
       "<div>\n",
       "<style scoped>\n",
       "    .dataframe tbody tr th:only-of-type {\n",
       "        vertical-align: middle;\n",
       "    }\n",
       "\n",
       "    .dataframe tbody tr th {\n",
       "        vertical-align: top;\n",
       "    }\n",
       "\n",
       "    .dataframe thead th {\n",
       "        text-align: right;\n",
       "    }\n",
       "</style>\n",
       "<table border=\"1\" class=\"dataframe\">\n",
       "  <thead>\n",
       "    <tr style=\"text-align: right;\">\n",
       "      <th></th>\n",
       "      <th>Nombre</th>\n",
       "      <th>Edad</th>\n",
       "      <th>Salario</th>\n",
       "      <th>Ciudad</th>\n",
       "    </tr>\n",
       "  </thead>\n",
       "  <tbody>\n",
       "    <tr>\n",
       "      <th>0</th>\n",
       "      <td>Ana</td>\n",
       "      <td>25.0</td>\n",
       "      <td>50000.0</td>\n",
       "      <td>Madrid</td>\n",
       "    </tr>\n",
       "    <tr>\n",
       "      <th>1</th>\n",
       "      <td>Juan</td>\n",
       "      <td>30.0</td>\n",
       "      <td>60000.0</td>\n",
       "      <td>Barcelona</td>\n",
       "    </tr>\n",
       "    <tr>\n",
       "      <th>2</th>\n",
       "      <td>Sofía</td>\n",
       "      <td>NaN</td>\n",
       "      <td>55000.0</td>\n",
       "      <td>Valencia</td>\n",
       "    </tr>\n",
       "    <tr>\n",
       "      <th>3</th>\n",
       "      <td>Daniel</td>\n",
       "      <td>22.0</td>\n",
       "      <td>NaN</td>\n",
       "      <td>Sevilla</td>\n",
       "    </tr>\n",
       "    <tr>\n",
       "      <th>4</th>\n",
       "      <td>Lucía</td>\n",
       "      <td>35.0</td>\n",
       "      <td>70000.0</td>\n",
       "      <td>Madrid</td>\n",
       "    </tr>\n",
       "    <tr>\n",
       "      <th>5</th>\n",
       "      <td>Pedro</td>\n",
       "      <td>40.0</td>\n",
       "      <td>80000.0</td>\n",
       "      <td>Barcelona</td>\n",
       "    </tr>\n",
       "    <tr>\n",
       "      <th>6</th>\n",
       "      <td>María</td>\n",
       "      <td>NaN</td>\n",
       "      <td>75000.0</td>\n",
       "      <td>Valencia</td>\n",
       "    </tr>\n",
       "    <tr>\n",
       "      <th>7</th>\n",
       "      <td>Javier</td>\n",
       "      <td>31.0</td>\n",
       "      <td>NaN</td>\n",
       "      <td>Sevilla</td>\n",
       "    </tr>\n",
       "    <tr>\n",
       "      <th>8</th>\n",
       "      <td>Laura</td>\n",
       "      <td>27.0</td>\n",
       "      <td>72000.0</td>\n",
       "      <td>None</td>\n",
       "    </tr>\n",
       "    <tr>\n",
       "      <th>9</th>\n",
       "      <td>Carlos</td>\n",
       "      <td>33.0</td>\n",
       "      <td>68000.0</td>\n",
       "      <td>Barcelona</td>\n",
       "    </tr>\n",
       "  </tbody>\n",
       "</table>\n",
       "</div>"
      ],
      "text/plain": [
       "   Nombre  Edad  Salario     Ciudad\n",
       "0     Ana  25.0  50000.0     Madrid\n",
       "1    Juan  30.0  60000.0  Barcelona\n",
       "2   Sofía   NaN  55000.0   Valencia\n",
       "3  Daniel  22.0      NaN    Sevilla\n",
       "4   Lucía  35.0  70000.0     Madrid\n",
       "5   Pedro  40.0  80000.0  Barcelona\n",
       "6   María   NaN  75000.0   Valencia\n",
       "7  Javier  31.0      NaN    Sevilla\n",
       "8   Laura  27.0  72000.0       None\n",
       "9  Carlos  33.0  68000.0  Barcelona"
      ]
     },
     "execution_count": 16,
     "metadata": {},
     "output_type": "execute_result"
    }
   ],
   "source": [
    "# Crear DataFrame\n",
    "data = {\n",
    "    'Nombre': ['Ana', 'Juan', 'Sofía', 'Daniel', 'Lucía', 'Pedro', 'María', 'Javier', 'Laura', 'Carlos'],\n",
    "    'Edad': [25, 30, None, 22, 35, 40, None, 31, 27, 33],\n",
    "    'Salario': [50000, 60000, 55000, None, 70000, 80000, 75000, None, 72000, 68000],\n",
    "    'Ciudad': ['Madrid', 'Barcelona', 'Valencia', 'Sevilla', 'Madrid', 'Barcelona', 'Valencia', 'Sevilla', None, 'Barcelona'],\n",
    "}\n",
    "\n",
    "df = pd.DataFrame(data)\n",
    "df"
   ]
  },
  {
   "cell_type": "code",
   "execution_count": 17,
   "id": "2c6e7b06",
   "metadata": {},
   "outputs": [
    {
     "data": {
      "text/plain": [
       "Nombre      object\n",
       "Edad       float64\n",
       "Salario    float64\n",
       "Ciudad      object\n",
       "dtype: object"
      ]
     },
     "execution_count": 17,
     "metadata": {},
     "output_type": "execute_result"
    }
   ],
   "source": [
    "df.dtypes"
   ]
  },
  {
   "cell_type": "code",
   "execution_count": 18,
   "id": "83eaacc9",
   "metadata": {},
   "outputs": [
    {
     "name": "stdout",
     "output_type": "stream",
     "text": [
      "<class 'pandas.core.frame.DataFrame'>\n",
      "RangeIndex: 10 entries, 0 to 9\n",
      "Data columns (total 4 columns):\n",
      " #   Column   Non-Null Count  Dtype  \n",
      "---  ------   --------------  -----  \n",
      " 0   Nombre   10 non-null     object \n",
      " 1   Edad     8 non-null      float64\n",
      " 2   Salario  8 non-null      float64\n",
      " 3   Ciudad   9 non-null      object \n",
      "dtypes: float64(2), object(2)\n",
      "memory usage: 448.0+ bytes\n"
     ]
    }
   ],
   "source": [
    "df.info()"
   ]
  },
  {
   "cell_type": "code",
   "execution_count": 19,
   "id": "6b758e27c68aebbf",
   "metadata": {},
   "outputs": [
    {
     "name": "stdout",
     "output_type": "stream",
     "text": [
      "\n",
      "Descripción estadística:\n",
      "             Edad      Salario\n",
      "count   8.000000      8.00000\n",
      "mean   30.375000  66250.00000\n",
      "std     5.755432  10319.88372\n",
      "min    22.000000  50000.00000\n",
      "25%    26.500000  58750.00000\n",
      "50%    30.500000  69000.00000\n",
      "75%    33.500000  72750.00000\n",
      "max    40.000000  80000.00000\n"
     ]
    }
   ],
   "source": [
    "# Operaciones básicas\n",
    "print(\"\\nDescripción estadística:\\n\", df.describe())"
   ]
  },
  {
   "cell_type": "code",
   "execution_count": 20,
   "id": "85512b6f",
   "metadata": {},
   "outputs": [
    {
     "data": {
      "text/plain": [
       "Nombre     0\n",
       "Edad       2\n",
       "Salario    2\n",
       "Ciudad     1\n",
       "dtype: int64"
      ]
     },
     "execution_count": 20,
     "metadata": {},
     "output_type": "execute_result"
    }
   ],
   "source": [
    "df.isnull().sum()"
   ]
  },
  {
   "cell_type": "markdown",
   "id": "990055af",
   "metadata": {},
   "source": [
    "Manejar datos faltantes"
   ]
  },
  {
   "cell_type": "code",
   "execution_count": 21,
   "id": "8776f49c",
   "metadata": {},
   "outputs": [],
   "source": [
    "from sklearn.impute import SimpleImputer\n",
    "from sklearn.compose import ColumnTransformer"
   ]
  },
  {
   "cell_type": "code",
   "execution_count": 22,
   "id": "2d73d93e",
   "metadata": {},
   "outputs": [],
   "source": [
    "# Define columns by type\n",
    "numeric_features = ['Edad', 'Salario']\n",
    "categorical_features = ['Nombre', 'Ciudad']"
   ]
  },
  {
   "cell_type": "code",
   "execution_count": 23,
   "id": "0fa25fa1",
   "metadata": {},
   "outputs": [
    {
     "data": {
      "text/html": [
       "<div>\n",
       "<style scoped>\n",
       "    .dataframe tbody tr th:only-of-type {\n",
       "        vertical-align: middle;\n",
       "    }\n",
       "\n",
       "    .dataframe tbody tr th {\n",
       "        vertical-align: top;\n",
       "    }\n",
       "\n",
       "    .dataframe thead th {\n",
       "        text-align: right;\n",
       "    }\n",
       "</style>\n",
       "<table border=\"1\" class=\"dataframe\">\n",
       "  <thead>\n",
       "    <tr style=\"text-align: right;\">\n",
       "      <th></th>\n",
       "      <th>Nombre</th>\n",
       "      <th>Ciudad</th>\n",
       "    </tr>\n",
       "  </thead>\n",
       "  <tbody>\n",
       "    <tr>\n",
       "      <th>0</th>\n",
       "      <td>Ana</td>\n",
       "      <td>Madrid</td>\n",
       "    </tr>\n",
       "    <tr>\n",
       "      <th>1</th>\n",
       "      <td>Juan</td>\n",
       "      <td>Barcelona</td>\n",
       "    </tr>\n",
       "    <tr>\n",
       "      <th>2</th>\n",
       "      <td>Sofía</td>\n",
       "      <td>Valencia</td>\n",
       "    </tr>\n",
       "    <tr>\n",
       "      <th>3</th>\n",
       "      <td>Daniel</td>\n",
       "      <td>Sevilla</td>\n",
       "    </tr>\n",
       "    <tr>\n",
       "      <th>4</th>\n",
       "      <td>Lucía</td>\n",
       "      <td>Madrid</td>\n",
       "    </tr>\n",
       "    <tr>\n",
       "      <th>5</th>\n",
       "      <td>Pedro</td>\n",
       "      <td>Barcelona</td>\n",
       "    </tr>\n",
       "    <tr>\n",
       "      <th>6</th>\n",
       "      <td>María</td>\n",
       "      <td>Valencia</td>\n",
       "    </tr>\n",
       "    <tr>\n",
       "      <th>7</th>\n",
       "      <td>Javier</td>\n",
       "      <td>Sevilla</td>\n",
       "    </tr>\n",
       "    <tr>\n",
       "      <th>8</th>\n",
       "      <td>Laura</td>\n",
       "      <td>None</td>\n",
       "    </tr>\n",
       "    <tr>\n",
       "      <th>9</th>\n",
       "      <td>Carlos</td>\n",
       "      <td>Barcelona</td>\n",
       "    </tr>\n",
       "  </tbody>\n",
       "</table>\n",
       "</div>"
      ],
      "text/plain": [
       "   Nombre     Ciudad\n",
       "0     Ana     Madrid\n",
       "1    Juan  Barcelona\n",
       "2   Sofía   Valencia\n",
       "3  Daniel    Sevilla\n",
       "4   Lucía     Madrid\n",
       "5   Pedro  Barcelona\n",
       "6   María   Valencia\n",
       "7  Javier    Sevilla\n",
       "8   Laura       None\n",
       "9  Carlos  Barcelona"
      ]
     },
     "execution_count": 23,
     "metadata": {},
     "output_type": "execute_result"
    }
   ],
   "source": [
    "df[categorical_features]"
   ]
  },
  {
   "cell_type": "code",
   "execution_count": 24,
   "id": "0a17f4b3",
   "metadata": {},
   "outputs": [
    {
     "name": "stdout",
     "output_type": "stream",
     "text": [
      "\n",
      "Imputed DataFrame:\n",
      "   Edad  Salario  Nombre     Ciudad\n",
      "0  25.0  50000.0     Ana     Madrid\n",
      "1  30.0  60000.0    Juan  Barcelona\n",
      "2  30.5  55000.0   Sofía   Valencia\n",
      "3  22.0  69000.0  Daniel    Sevilla\n",
      "4  35.0  70000.0   Lucía     Madrid\n",
      "5  40.0  80000.0   Pedro  Barcelona\n",
      "6  30.5  75000.0   María   Valencia\n",
      "7  31.0  69000.0  Javier    Sevilla\n",
      "8  27.0  72000.0   Laura       None\n",
      "9  33.0  68000.0  Carlos  Barcelona\n"
     ]
    }
   ],
   "source": [
    "# Create imputers\n",
    "numeric_imputer = SimpleImputer(strategy='median')\n",
    "categorical_imputer = SimpleImputer(strategy='most_frequent')\n",
    "\n",
    "# Combine with ColumnTransformer\n",
    "preprocessor = ColumnTransformer(\n",
    "    transformers=[\n",
    "        ('num', numeric_imputer, numeric_features),\n",
    "        ('cat', categorical_imputer, categorical_features)\n",
    "    ]\n",
    ")\n",
    "\n",
    "imputed_array = preprocessor.fit_transform(df)\n",
    "df_imputed = pd.DataFrame(imputed_array, columns=numeric_features + categorical_features)\n",
    "\n",
    "print(\"\\nImputed DataFrame:\")\n",
    "print(df_imputed)"
   ]
  },
  {
   "cell_type": "code",
   "execution_count": 25,
   "id": "fe4f6738",
   "metadata": {},
   "outputs": [],
   "source": [
    "df[categorical_features] = df[categorical_features].replace(['', ' ', 'nan', 'None', None], np.nan)"
   ]
  },
  {
   "cell_type": "code",
   "execution_count": 26,
   "id": "8046d22c",
   "metadata": {},
   "outputs": [
    {
     "data": {
      "text/html": [
       "<div>\n",
       "<style scoped>\n",
       "    .dataframe tbody tr th:only-of-type {\n",
       "        vertical-align: middle;\n",
       "    }\n",
       "\n",
       "    .dataframe tbody tr th {\n",
       "        vertical-align: top;\n",
       "    }\n",
       "\n",
       "    .dataframe thead th {\n",
       "        text-align: right;\n",
       "    }\n",
       "</style>\n",
       "<table border=\"1\" class=\"dataframe\">\n",
       "  <thead>\n",
       "    <tr style=\"text-align: right;\">\n",
       "      <th></th>\n",
       "      <th>Nombre</th>\n",
       "      <th>Ciudad</th>\n",
       "    </tr>\n",
       "  </thead>\n",
       "  <tbody>\n",
       "    <tr>\n",
       "      <th>0</th>\n",
       "      <td>Ana</td>\n",
       "      <td>Madrid</td>\n",
       "    </tr>\n",
       "    <tr>\n",
       "      <th>1</th>\n",
       "      <td>Juan</td>\n",
       "      <td>Barcelona</td>\n",
       "    </tr>\n",
       "    <tr>\n",
       "      <th>2</th>\n",
       "      <td>Sofía</td>\n",
       "      <td>Valencia</td>\n",
       "    </tr>\n",
       "    <tr>\n",
       "      <th>3</th>\n",
       "      <td>Daniel</td>\n",
       "      <td>Sevilla</td>\n",
       "    </tr>\n",
       "    <tr>\n",
       "      <th>4</th>\n",
       "      <td>Lucía</td>\n",
       "      <td>Madrid</td>\n",
       "    </tr>\n",
       "    <tr>\n",
       "      <th>5</th>\n",
       "      <td>Pedro</td>\n",
       "      <td>Barcelona</td>\n",
       "    </tr>\n",
       "    <tr>\n",
       "      <th>6</th>\n",
       "      <td>María</td>\n",
       "      <td>Valencia</td>\n",
       "    </tr>\n",
       "    <tr>\n",
       "      <th>7</th>\n",
       "      <td>Javier</td>\n",
       "      <td>Sevilla</td>\n",
       "    </tr>\n",
       "    <tr>\n",
       "      <th>8</th>\n",
       "      <td>Laura</td>\n",
       "      <td>NaN</td>\n",
       "    </tr>\n",
       "    <tr>\n",
       "      <th>9</th>\n",
       "      <td>Carlos</td>\n",
       "      <td>Barcelona</td>\n",
       "    </tr>\n",
       "  </tbody>\n",
       "</table>\n",
       "</div>"
      ],
      "text/plain": [
       "   Nombre     Ciudad\n",
       "0     Ana     Madrid\n",
       "1    Juan  Barcelona\n",
       "2   Sofía   Valencia\n",
       "3  Daniel    Sevilla\n",
       "4   Lucía     Madrid\n",
       "5   Pedro  Barcelona\n",
       "6   María   Valencia\n",
       "7  Javier    Sevilla\n",
       "8   Laura        NaN\n",
       "9  Carlos  Barcelona"
      ]
     },
     "execution_count": 26,
     "metadata": {},
     "output_type": "execute_result"
    }
   ],
   "source": [
    "df[categorical_features]"
   ]
  },
  {
   "cell_type": "code",
   "execution_count": 27,
   "id": "08e72217",
   "metadata": {},
   "outputs": [
    {
     "data": {
      "text/html": [
       "<div>\n",
       "<style scoped>\n",
       "    .dataframe tbody tr th:only-of-type {\n",
       "        vertical-align: middle;\n",
       "    }\n",
       "\n",
       "    .dataframe tbody tr th {\n",
       "        vertical-align: top;\n",
       "    }\n",
       "\n",
       "    .dataframe thead th {\n",
       "        text-align: right;\n",
       "    }\n",
       "</style>\n",
       "<table border=\"1\" class=\"dataframe\">\n",
       "  <thead>\n",
       "    <tr style=\"text-align: right;\">\n",
       "      <th></th>\n",
       "      <th>Nombre</th>\n",
       "      <th>Edad</th>\n",
       "      <th>Salario</th>\n",
       "      <th>Ciudad</th>\n",
       "    </tr>\n",
       "  </thead>\n",
       "  <tbody>\n",
       "    <tr>\n",
       "      <th>0</th>\n",
       "      <td>Ana</td>\n",
       "      <td>25.0</td>\n",
       "      <td>50000.0</td>\n",
       "      <td>Madrid</td>\n",
       "    </tr>\n",
       "    <tr>\n",
       "      <th>1</th>\n",
       "      <td>Juan</td>\n",
       "      <td>30.0</td>\n",
       "      <td>60000.0</td>\n",
       "      <td>Barcelona</td>\n",
       "    </tr>\n",
       "    <tr>\n",
       "      <th>2</th>\n",
       "      <td>Sofía</td>\n",
       "      <td>30.5</td>\n",
       "      <td>55000.0</td>\n",
       "      <td>Valencia</td>\n",
       "    </tr>\n",
       "    <tr>\n",
       "      <th>3</th>\n",
       "      <td>Daniel</td>\n",
       "      <td>22.0</td>\n",
       "      <td>69000.0</td>\n",
       "      <td>Sevilla</td>\n",
       "    </tr>\n",
       "    <tr>\n",
       "      <th>4</th>\n",
       "      <td>Lucía</td>\n",
       "      <td>35.0</td>\n",
       "      <td>70000.0</td>\n",
       "      <td>Madrid</td>\n",
       "    </tr>\n",
       "    <tr>\n",
       "      <th>5</th>\n",
       "      <td>Pedro</td>\n",
       "      <td>40.0</td>\n",
       "      <td>80000.0</td>\n",
       "      <td>Barcelona</td>\n",
       "    </tr>\n",
       "    <tr>\n",
       "      <th>6</th>\n",
       "      <td>María</td>\n",
       "      <td>30.5</td>\n",
       "      <td>75000.0</td>\n",
       "      <td>Valencia</td>\n",
       "    </tr>\n",
       "    <tr>\n",
       "      <th>7</th>\n",
       "      <td>Javier</td>\n",
       "      <td>31.0</td>\n",
       "      <td>69000.0</td>\n",
       "      <td>Sevilla</td>\n",
       "    </tr>\n",
       "    <tr>\n",
       "      <th>8</th>\n",
       "      <td>Laura</td>\n",
       "      <td>27.0</td>\n",
       "      <td>72000.0</td>\n",
       "      <td>Barcelona</td>\n",
       "    </tr>\n",
       "    <tr>\n",
       "      <th>9</th>\n",
       "      <td>Carlos</td>\n",
       "      <td>33.0</td>\n",
       "      <td>68000.0</td>\n",
       "      <td>Barcelona</td>\n",
       "    </tr>\n",
       "  </tbody>\n",
       "</table>\n",
       "</div>"
      ],
      "text/plain": [
       "   Nombre  Edad  Salario     Ciudad\n",
       "0     Ana  25.0  50000.0     Madrid\n",
       "1    Juan  30.0  60000.0  Barcelona\n",
       "2   Sofía  30.5  55000.0   Valencia\n",
       "3  Daniel  22.0  69000.0    Sevilla\n",
       "4   Lucía  35.0  70000.0     Madrid\n",
       "5   Pedro  40.0  80000.0  Barcelona\n",
       "6   María  30.5  75000.0   Valencia\n",
       "7  Javier  31.0  69000.0    Sevilla\n",
       "8   Laura  27.0  72000.0  Barcelona\n",
       "9  Carlos  33.0  68000.0  Barcelona"
      ]
     },
     "execution_count": 27,
     "metadata": {},
     "output_type": "execute_result"
    }
   ],
   "source": [
    "df['Nombre'] = df['Nombre'].fillna(df['Nombre'].mode()[0])\n",
    "df['Ciudad'] = df['Ciudad'].fillna(df['Ciudad'].mode()[0])\n",
    "df['Edad'] = df['Edad'].fillna(df['Edad'].median())\n",
    "df['Salario'] = df['Salario'].fillna(df['Salario'].median())\n",
    "df"
   ]
  },
  {
   "cell_type": "markdown",
   "id": "6d6ed77e",
   "metadata": {},
   "source": [
    "Filtro de datos"
   ]
  },
  {
   "cell_type": "code",
   "execution_count": 30,
   "id": "b0a91851",
   "metadata": {},
   "outputs": [
    {
     "data": {
      "text/html": [
       "<div>\n",
       "<style scoped>\n",
       "    .dataframe tbody tr th:only-of-type {\n",
       "        vertical-align: middle;\n",
       "    }\n",
       "\n",
       "    .dataframe tbody tr th {\n",
       "        vertical-align: top;\n",
       "    }\n",
       "\n",
       "    .dataframe thead th {\n",
       "        text-align: right;\n",
       "    }\n",
       "</style>\n",
       "<table border=\"1\" class=\"dataframe\">\n",
       "  <thead>\n",
       "    <tr style=\"text-align: right;\">\n",
       "      <th></th>\n",
       "      <th>Nombre</th>\n",
       "      <th>Edad</th>\n",
       "      <th>Salario</th>\n",
       "      <th>Ciudad</th>\n",
       "    </tr>\n",
       "  </thead>\n",
       "  <tbody>\n",
       "    <tr>\n",
       "      <th>2</th>\n",
       "      <td>Sofía</td>\n",
       "      <td>30.5</td>\n",
       "      <td>55000.0</td>\n",
       "      <td>Valencia</td>\n",
       "    </tr>\n",
       "    <tr>\n",
       "      <th>4</th>\n",
       "      <td>Lucía</td>\n",
       "      <td>35.0</td>\n",
       "      <td>70000.0</td>\n",
       "      <td>Madrid</td>\n",
       "    </tr>\n",
       "    <tr>\n",
       "      <th>5</th>\n",
       "      <td>Pedro</td>\n",
       "      <td>40.0</td>\n",
       "      <td>80000.0</td>\n",
       "      <td>Barcelona</td>\n",
       "    </tr>\n",
       "    <tr>\n",
       "      <th>6</th>\n",
       "      <td>María</td>\n",
       "      <td>30.5</td>\n",
       "      <td>75000.0</td>\n",
       "      <td>Valencia</td>\n",
       "    </tr>\n",
       "    <tr>\n",
       "      <th>7</th>\n",
       "      <td>Javier</td>\n",
       "      <td>31.0</td>\n",
       "      <td>69000.0</td>\n",
       "      <td>Sevilla</td>\n",
       "    </tr>\n",
       "    <tr>\n",
       "      <th>9</th>\n",
       "      <td>Carlos</td>\n",
       "      <td>33.0</td>\n",
       "      <td>68000.0</td>\n",
       "      <td>Barcelona</td>\n",
       "    </tr>\n",
       "  </tbody>\n",
       "</table>\n",
       "</div>"
      ],
      "text/plain": [
       "   Nombre  Edad  Salario     Ciudad\n",
       "2   Sofía  30.5  55000.0   Valencia\n",
       "4   Lucía  35.0  70000.0     Madrid\n",
       "5   Pedro  40.0  80000.0  Barcelona\n",
       "6   María  30.5  75000.0   Valencia\n",
       "7  Javier  31.0  69000.0    Sevilla\n",
       "9  Carlos  33.0  68000.0  Barcelona"
      ]
     },
     "execution_count": 30,
     "metadata": {},
     "output_type": "execute_result"
    }
   ],
   "source": [
    "df[df['Edad'] > 30]"
   ]
  },
  {
   "cell_type": "markdown",
   "id": "b52192fe",
   "metadata": {},
   "source": [
    "Manipular los datos - agregar nueva característica"
   ]
  },
  {
   "cell_type": "code",
   "execution_count": 31,
   "id": "9b854005",
   "metadata": {},
   "outputs": [
    {
     "name": "stdout",
     "output_type": "stream",
     "text": [
      "Percentil 33%: 67760.0\n",
      "Percentil 66%: 69940.0\n"
     ]
    }
   ],
   "source": [
    "# Obtener los valores de los percentiles\n",
    "percentil_33 = df['Salario'].quantile(0.33)\n",
    "percentil_66 = df['Salario'].quantile(0.66)\n",
    "\n",
    "print(f\"Percentil 33%: {percentil_33}\")\n",
    "print(f\"Percentil 66%: {percentil_66}\")"
   ]
  },
  {
   "cell_type": "code",
   "execution_count": 32,
   "id": "039f163b",
   "metadata": {},
   "outputs": [
    {
     "data": {
      "text/html": [
       "<div>\n",
       "<style scoped>\n",
       "    .dataframe tbody tr th:only-of-type {\n",
       "        vertical-align: middle;\n",
       "    }\n",
       "\n",
       "    .dataframe tbody tr th {\n",
       "        vertical-align: top;\n",
       "    }\n",
       "\n",
       "    .dataframe thead th {\n",
       "        text-align: right;\n",
       "    }\n",
       "</style>\n",
       "<table border=\"1\" class=\"dataframe\">\n",
       "  <thead>\n",
       "    <tr style=\"text-align: right;\">\n",
       "      <th></th>\n",
       "      <th>Nombre</th>\n",
       "      <th>Edad</th>\n",
       "      <th>Salario</th>\n",
       "      <th>Ciudad</th>\n",
       "      <th>Categoria_Salario</th>\n",
       "    </tr>\n",
       "  </thead>\n",
       "  <tbody>\n",
       "    <tr>\n",
       "      <th>0</th>\n",
       "      <td>Ana</td>\n",
       "      <td>25.0</td>\n",
       "      <td>50000.0</td>\n",
       "      <td>Madrid</td>\n",
       "      <td>Bajo</td>\n",
       "    </tr>\n",
       "    <tr>\n",
       "      <th>1</th>\n",
       "      <td>Juan</td>\n",
       "      <td>30.0</td>\n",
       "      <td>60000.0</td>\n",
       "      <td>Barcelona</td>\n",
       "      <td>Bajo</td>\n",
       "    </tr>\n",
       "    <tr>\n",
       "      <th>2</th>\n",
       "      <td>Sofía</td>\n",
       "      <td>30.5</td>\n",
       "      <td>55000.0</td>\n",
       "      <td>Valencia</td>\n",
       "      <td>Bajo</td>\n",
       "    </tr>\n",
       "    <tr>\n",
       "      <th>3</th>\n",
       "      <td>Daniel</td>\n",
       "      <td>22.0</td>\n",
       "      <td>69000.0</td>\n",
       "      <td>Sevilla</td>\n",
       "      <td>Medio</td>\n",
       "    </tr>\n",
       "    <tr>\n",
       "      <th>4</th>\n",
       "      <td>Lucía</td>\n",
       "      <td>35.0</td>\n",
       "      <td>70000.0</td>\n",
       "      <td>Madrid</td>\n",
       "      <td>Alto</td>\n",
       "    </tr>\n",
       "    <tr>\n",
       "      <th>5</th>\n",
       "      <td>Pedro</td>\n",
       "      <td>40.0</td>\n",
       "      <td>80000.0</td>\n",
       "      <td>Barcelona</td>\n",
       "      <td>Alto</td>\n",
       "    </tr>\n",
       "    <tr>\n",
       "      <th>6</th>\n",
       "      <td>María</td>\n",
       "      <td>30.5</td>\n",
       "      <td>75000.0</td>\n",
       "      <td>Valencia</td>\n",
       "      <td>Alto</td>\n",
       "    </tr>\n",
       "    <tr>\n",
       "      <th>7</th>\n",
       "      <td>Javier</td>\n",
       "      <td>31.0</td>\n",
       "      <td>69000.0</td>\n",
       "      <td>Sevilla</td>\n",
       "      <td>Medio</td>\n",
       "    </tr>\n",
       "    <tr>\n",
       "      <th>8</th>\n",
       "      <td>Laura</td>\n",
       "      <td>27.0</td>\n",
       "      <td>72000.0</td>\n",
       "      <td>Barcelona</td>\n",
       "      <td>Alto</td>\n",
       "    </tr>\n",
       "    <tr>\n",
       "      <th>9</th>\n",
       "      <td>Carlos</td>\n",
       "      <td>33.0</td>\n",
       "      <td>68000.0</td>\n",
       "      <td>Barcelona</td>\n",
       "      <td>Medio</td>\n",
       "    </tr>\n",
       "  </tbody>\n",
       "</table>\n",
       "</div>"
      ],
      "text/plain": [
       "   Nombre  Edad  Salario     Ciudad Categoria_Salario\n",
       "0     Ana  25.0  50000.0     Madrid              Bajo\n",
       "1    Juan  30.0  60000.0  Barcelona              Bajo\n",
       "2   Sofía  30.5  55000.0   Valencia              Bajo\n",
       "3  Daniel  22.0  69000.0    Sevilla             Medio\n",
       "4   Lucía  35.0  70000.0     Madrid              Alto\n",
       "5   Pedro  40.0  80000.0  Barcelona              Alto\n",
       "6   María  30.5  75000.0   Valencia              Alto\n",
       "7  Javier  31.0  69000.0    Sevilla             Medio\n",
       "8   Laura  27.0  72000.0  Barcelona              Alto\n",
       "9  Carlos  33.0  68000.0  Barcelona             Medio"
      ]
     },
     "execution_count": 32,
     "metadata": {},
     "output_type": "execute_result"
    }
   ],
   "source": [
    "def categoria_salario(salario):\n",
    "    if salario < percentil_33:\n",
    "        return 'Bajo'\n",
    "    elif salario < percentil_66:\n",
    "        return 'Medio'\n",
    "    else:\n",
    "        return 'Alto'\n",
    "\n",
    "df['Categoria_Salario'] = df['Salario'].apply(categoria_salario)\n",
    "df"
   ]
  },
  {
   "cell_type": "code",
   "execution_count": null,
   "id": "d1e66c36eeb5e576",
   "metadata": {},
   "outputs": [],
   "source": [
    "# Guardar datos en un csv\n",
    "df.to_csv(\"data.csv\", index=False)"
   ]
  },
  {
   "cell_type": "code",
   "execution_count": null,
   "id": "b7bd3e7cb2a39c76",
   "metadata": {},
   "outputs": [],
   "source": [
    "# Leer datos de un csv\n",
    "df = pd.read_csv('data.csv')\n",
    "\n",
    "print(df)"
   ]
  },
  {
   "cell_type": "markdown",
   "id": "a3b373bf38ab4585",
   "metadata": {},
   "source": [
    "### 2.3 Matplotlib (Visualización)"
   ]
  },
  {
   "cell_type": "code",
   "execution_count": 34,
   "id": "b1ad5b0797357315",
   "metadata": {},
   "outputs": [],
   "source": [
    "import matplotlib.pyplot as plt\n",
    "import seaborn as sns"
   ]
  },
  {
   "cell_type": "code",
   "execution_count": null,
   "id": "9f6621bcd6bb47eb",
   "metadata": {},
   "outputs": [],
   "source": [
    "# Datos\n",
    "x = np.linspace(0, 10, 100)\n",
    "y = np.sin(x)"
   ]
  },
  {
   "cell_type": "code",
   "execution_count": null,
   "id": "a4d3afd25f6a1d5a",
   "metadata": {},
   "outputs": [],
   "source": [
    "# Gráfico\n",
    "plt.figure(figsize=(8, 4))\n",
    "plt.plot(x, y, label='sin(x)', color='blue')\n",
    "plt.title(\"Función Seno\")\n",
    "plt.xlabel(\"X\")\n",
    "plt.ylabel(\"sin(X)\")\n",
    "plt.legend()\n",
    "plt.grid(True)\n",
    "plt.show()\n"
   ]
  },
  {
   "cell_type": "markdown",
   "id": "f1c37a40",
   "metadata": {},
   "source": [
    "Exploración del dataframe de ejemplo"
   ]
  },
  {
   "cell_type": "code",
   "execution_count": 35,
   "id": "a713e26f",
   "metadata": {},
   "outputs": [
    {
     "data": {
      "image/png": "[encoded data removed]",
      "text/plain": [
       "<Figure size 1400x500 with 2 Axes>"
      ]
     },
     "metadata": {},
     "output_type": "display_data"
    }
   ],
   "source": [
    "fig, axes = plt.subplots(1, 2, figsize=(14, 5))\n",
    "\n",
    "# Histograma\n",
    "sns.histplot(df['Edad'], ax=axes[0], kde=True, color='skyblue')\n",
    "axes[0].set_title('Distribución de la Edad')\n",
    "axes[0].set_xlabel('Edad')\n",
    "axes[0].set_ylabel('Frecuencia')\n",
    "\n",
    "# Boxplot\n",
    "sns.boxplot(x=df['Edad'], ax=axes[1], color='lightgreen')\n",
    "axes[1].set_title('Boxplot de la Edad')\n",
    "\n",
    "plt.tight_layout()\n",
    "plt.show()"
   ]
  },
  {
   "cell_type": "code",
   "execution_count": 42,
   "id": "977997d6",
   "metadata": {},
   "outputs": [
    {
     "data": {
      "image/png": "[encoded data removed]",
      "text/plain": [
       "<Figure size 800x600 with 2 Axes>"
      ]
     },
     "metadata": {},
     "output_type": "display_data"
    }
   ],
   "source": [
    "numeric_df = df.select_dtypes(include=[np.number])\n",
    "\n",
    "plt.figure(figsize=(8, 6))\n",
    "corr_matrix = numeric_df.corr()\n",
    "\n",
    "sns.heatmap(corr_matrix, annot=True, cmap='coolwarm', fmt='.2f', linewidths=0.5)\n",
    "plt.title('Matriz de Correlación')\n",
    "plt.show()"
   ]
  },
  {
   "cell_type": "code",
   "execution_count": 39,
   "id": "9e7d155b",
   "metadata": {},
   "outputs": [
    {
     "data": {
      "image/png": "[encoded data removed]",
      "text/plain": [
       "<Figure size 800x600 with 1 Axes>"
      ]
     },
     "metadata": {},
     "output_type": "display_data"
    }
   ],
   "source": [
    "plt.figure(figsize=(8, 6))\n",
    "sns.scatterplot(data=df, x='Edad', y='Salario', hue='Categoria_Salario', palette='Set2')\n",
    "plt.title('Relación entre Edad y Salario')\n",
    "plt.xlabel('Edad')\n",
    "plt.ylabel('Salario')\n",
    "plt.grid(True)\n",
    "plt.legend(title='Categoría de Salario')\n",
    "plt.show()"
   ]
  },
  {
   "cell_type": "code",
   "execution_count": 40,
   "id": "b77c093d",
   "metadata": {},
   "outputs": [
    {
     "data": {
      "image/png": "[encoded data removed]",
      "text/plain": [
       "<Figure size 500x500 with 6 Axes>"
      ]
     },
     "metadata": {},
     "output_type": "display_data"
    }
   ],
   "source": [
    "import seaborn as sns\n",
    "\n",
    "# Pairplot básico\n",
    "sns.pairplot(numeric_df)\n",
    "plt.suptitle(\"Pairplot - Relación entre Variables Numéricas\", y=1.02)\n",
    "plt.show()"
   ]
  },
  {
   "cell_type": "markdown",
   "id": "41d3c4f56a5d68b1",
   "metadata": {},
   "source": [
    "### 2.4 Scikit-learn (Machine Learning)"
   ]
  },
  {
   "cell_type": "code",
   "execution_count": null,
   "id": "99f4e2e8794617db",
   "metadata": {},
   "outputs": [],
   "source": [
    "from sklearn.linear_model import LinearRegression\n",
    "from sklearn.datasets import make_regression"
   ]
  },
  {
   "cell_type": "code",
   "execution_count": null,
   "id": "32c6e01aa78e7c2a",
   "metadata": {},
   "outputs": [],
   "source": [
    "# Generar datos\n",
    "X, y = make_regression(n_samples=100, n_features=1, noise=10)"
   ]
  },
  {
   "cell_type": "code",
   "execution_count": null,
   "id": "811d1800306d8e13",
   "metadata": {},
   "outputs": [],
   "source": [
    "# Modelo\n",
    "modelo = LinearRegression()\n",
    "modelo.fit(X, y)"
   ]
  },
  {
   "cell_type": "code",
   "execution_count": null,
   "id": "54582f82ff989377",
   "metadata": {},
   "outputs": [],
   "source": [
    "# Predicción\n",
    "plt.scatter(X, y, color='blue')\n",
    "plt.plot(X, modelo.predict(X), color='red', linewidth=2)\n",
    "plt.title(\"Regresión Lineal\")\n",
    "plt.show()"
   ]
  },
  {
   "cell_type": "code",
   "execution_count": null,
   "id": "8774274efb231081",
   "metadata": {},
   "outputs": [],
   "source": [
    "# Random Forest Classifier\n",
    "from sklearn.ensemble import RandomForestClassifier\n",
    "from sklearn.datasets import load_iris\n",
    "from sklearn.model_selection import train_test_split\n",
    "from sklearn.metrics import accuracy_score\n",
    "\n",
    "# Load iris dataset\n",
    "iris = load_iris()\n",
    "X, y = iris.data, iris.target\n",
    "\n",
    "# Split the data\n",
    "X_train, X_test, y_train, y_test = train_test_split(X, y, test_size=0.2, random_state=42)\n",
    "\n",
    "# Create and train the model\n",
    "rf_model = RandomForestClassifier(n_estimators=100, random_state=42)\n",
    "rf_model.fit(X_train, y_train)\n",
    "\n",
    "# Make predictions\n",
    "y_pred = rf_model.predict(X_test)\n",
    "\n",
    "# Calculate accuracy\n",
    "accuracy = accuracy_score(y_test, y_pred)\n",
    "print(f\"Accuracy: {accuracy:.2f}\")\n"
   ]
  },
  {
   "cell_type": "markdown",
   "id": "a09cc0b2e5b2848d",
   "metadata": {},
   "source": [
    "### 2.5 SciPy (Cálculo Científico)"
   ]
  },
  {
   "cell_type": "code",
   "execution_count": null,
   "id": "a4bf5bb3b1a5e732",
   "metadata": {},
   "outputs": [],
   "source": [
    "from scipy import stats"
   ]
  },
  {
   "cell_type": "code",
   "execution_count": null,
   "id": "9e849ac43bb85e3c",
   "metadata": {},
   "outputs": [],
   "source": [
    "# Estadísticas\n",
    "datos = np.random.normal(5, 2, 1000)\n",
    "print(\"Media:\", np.mean(datos))\n",
    "print(\"Desviación estándar:\", np.std(datos))"
   ]
  },
  {
   "cell_type": "code",
   "execution_count": null,
   "id": "21eba644929c22cf",
   "metadata": {},
   "outputs": [],
   "source": [
    "# Test t\n",
    "grupo1 = np.random.normal(5, 1, 100)\n",
    "grupo2 = np.random.normal(6, 1, 100)\n",
    "t_stat, p_val = stats.ttest_ind(grupo1, grupo2)\n",
    "print(f\"\\nValor p: {p_val:.4f}\")"
   ]
  },
  {
   "cell_type": "markdown",
   "id": "7b478d984651364e",
   "metadata": {},
   "source": [
    "### Linear regression example"
   ]
  },
  {
   "cell_type": "code",
   "execution_count": null,
   "id": "3b1b1440623f6818",
   "metadata": {},
   "outputs": [],
   "source": [
    "from scipy import optimize\n",
    "import numpy as np\n",
    "import matplotlib.pyplot as plt\n",
    "\n",
    "# Generate sample data with some noise\n",
    "np.random.seed(42)\n",
    "x_data = np.linspace(0, 10, 50)\n",
    "y_data = 2 * x_data + 1 + np.random.normal(0, 0.5, len(x_data))"
   ]
  },
  {
   "cell_type": "code",
   "execution_count": null,
   "id": "296a3ccd7e159bcc",
   "metadata": {},
   "outputs": [],
   "source": [
    "# Define the linear model function\n",
    "def linear_model(x, m, b):\n",
    "    return m * x + b\n",
    "\n",
    "\n",
    "# Fit the model using scipy's curve_fit\n",
    "popt, pcov = optimize.curve_fit(linear_model, x_data, y_data)\n",
    "m_fit, b_fit = popt"
   ]
  },
  {
   "cell_type": "code",
   "execution_count": null,
   "id": "22fc228b30397491",
   "metadata": {},
   "outputs": [],
   "source": [
    "# Plot the results\n",
    "plt.figure(figsize=(8, 6))\n",
    "plt.scatter(x_data, y_data, label='Data')\n",
    "plt.plot(x_data, linear_model(x_data, m_fit, b_fit), 'r-',\n",
    "         label=f'Fit: y = {m_fit:.2f}x + {b_fit:.2f}')\n",
    "plt.xlabel('X')\n",
    "plt.ylabel('Y')\n",
    "plt.title('Linear Regression using SciPy optimize.curve_fit')\n",
    "plt.legend()\n",
    "plt.grid(True)\n",
    "plt.show()\n",
    "\n",
    "print(f\"Fitted parameters: slope = {m_fit:.2f}, intercept = {b_fit:.2f}\")"
   ]
  },
  {
   "cell_type": "markdown",
   "id": "d8182f3b4be10e33",
   "metadata": {},
   "source": []
  },
  {
   "cell_type": "markdown",
   "id": "1aacdb7504e1e841",
   "metadata": {},
   "source": [
    " ### 2.6 TensorFlow/Keras (Deep Learning)"
   ]
  },
  {
   "cell_type": "code",
   "execution_count": null,
   "id": "d9a4b172ce599b1e",
   "metadata": {},
   "outputs": [],
   "source": [
    "import tensorflow as tf\n",
    "from keras.models import Sequential\n",
    "from keras.layers import Dense\n"
   ]
  },
  {
   "cell_type": "code",
   "execution_count": null,
   "id": "f1857686441537af",
   "metadata": {},
   "outputs": [],
   "source": [
    "# Modelo simple\n",
    "modelo = Sequential([\n",
    "    Dense(10, activation='relu', input_shape=(4,)),\n",
    "    Dense(3, activation='softmax')\n",
    "])"
   ]
  },
  {
   "cell_type": "code",
   "execution_count": null,
   "id": "401b4627cc00a8b6",
   "metadata": {},
   "outputs": [],
   "source": [
    "modelo.compile(optimizer='adam', loss='sparse_categorical_crossentropy', metrics=['accuracy'])\n",
    "print(\"Resumen del modelo:\")\n",
    "modelo.summary()"
   ]
  },
  {
   "cell_type": "markdown",
   "id": "8590ddfce6b11ee",
   "metadata": {},
   "source": [
    "### Linear regression example"
   ]
  },
  {
   "cell_type": "code",
   "execution_count": null,
   "id": "870027e115ddfc15",
   "metadata": {},
   "outputs": [],
   "source": [
    "import tensorflow as tf\n",
    "import numpy as np\n",
    "import matplotlib.pyplot as plt\n",
    "\n",
    "# Generar datos sintéticos (similar a make_regression)\n",
    "np.random.seed(42)\n",
    "X = np.linspace(0, 10, 100).reshape(-1, 1).astype(np.float32)\n",
    "y = 2 * X + 1 + np.random.normal(0, 1, 100).reshape(-1, 1).astype(np.float32)\n",
    "\n",
    "# Crear modelo\n",
    "modelo = tf.keras.Sequential([\n",
    "    tf.keras.layers.Dense(units=1)  # Capa lineal\n",
    "])\n",
    "\n",
    "# Compilar\n",
    "modelo.compile(\n",
    "    optimizer=tf.keras.optimizers.Adam(learning_rate=0.1),\n",
    "    loss='mean_squared_error'\n",
    ")\n",
    "\n",
    "# Entrenar\n",
    "historial = modelo.fit(X, y, epochs=100, verbose=0)\n",
    "\n",
    "# Predicciones\n",
    "y_pred = modelo.predict(X)\n",
    "\n",
    "\n"
   ]
  },
  {
   "cell_type": "code",
   "execution_count": null,
   "id": "01fe022c",
   "metadata": {},
   "outputs": [],
   "source": [
    "# Visualización\n",
    "plt.figure(figsize=(8, 4))\n",
    "plt.scatter(X, y, color='blue', label='Datos reales')\n",
    "plt.plot(X, y_pred, color='red', linewidth=2, label='Predicción')\n",
    "plt.title(\"Regresión Lineal con TensorFlow/Keras\")\n",
    "plt.xlabel(\"X\")\n",
    "plt.ylabel(\"y\")\n",
    "plt.legend()\n",
    "plt.show()"
   ]
  },
  {
   "cell_type": "code",
   "execution_count": null,
   "id": "920bbf26",
   "metadata": {},
   "outputs": [],
   "source": [
    "# Mostrar parámetros aprendidos\n",
    "peso, sesgo = modelo.layers[0].get_weights()[0][0], modelo.layers[0].get_weights()[1]\n",
    "print(f\"\\nParámetros aprendidos: y = {peso[0]:.2f}x + {sesgo[0]:.2f}\")"
   ]
  },
  {
   "cell_type": "markdown",
   "id": "f5c709dbb30898ae",
   "metadata": {},
   "source": [
    "### 2.7 PyTorch (Deep Learning)"
   ]
  },
  {
   "cell_type": "code",
   "execution_count": null,
   "id": "cdd71d81b2be5530",
   "metadata": {},
   "outputs": [],
   "source": [
    "import torch\n",
    "import torch.nn as nn"
   ]
  },
  {
   "cell_type": "code",
   "execution_count": null,
   "id": "eb92495d794cd6ea",
   "metadata": {},
   "outputs": [],
   "source": [
    "# Modelo básico\n",
    "class RedSimple(nn.Module):\n",
    "    def __init__(self):\n",
    "        super().__init__()\n",
    "        self.capa1 = nn.Linear(4, 10)\n",
    "        self.capa2 = nn.Linear(10, 3)\n",
    "\n",
    "    def forward(self, x):\n",
    "        x = torch.relu(self.capa1(x))\n",
    "        x = self.capa2(x)\n",
    "        return x"
   ]
  },
  {
   "cell_type": "code",
   "execution_count": null,
   "id": "e16144ddae416dcc",
   "metadata": {},
   "outputs": [],
   "source": [
    "modelo = RedSimple()\n",
    "print(\"Arquitectura del modelo:\\n\", modelo)"
   ]
  },
  {
   "cell_type": "markdown",
   "id": "8100a879c7f69559",
   "metadata": {},
   "source": [
    "### Linear Regression example"
   ]
  },
  {
   "cell_type": "code",
   "execution_count": null,
   "id": "383947c18c7258eb",
   "metadata": {},
   "outputs": [],
   "source": [
    "import torch\n",
    "import torch.nn as nn\n",
    "import numpy as np\n",
    "import matplotlib.pyplot as plt\n",
    "\n",
    "# Generar datos\n",
    "X = np.linspace(0, 10, 100).reshape(-1, 1)\n",
    "y = 2 * X + 1 + np.random.normal(0, 1, 100).reshape(-1, 1)\n",
    "\n",
    "# Convertir a tensores de PyTorch\n",
    "X_tensor = torch.from_numpy(X.astype(np.float32))\n",
    "y_tensor = torch.from_numpy(y.astype(np.float32))\n",
    "\n",
    "# Definir modelo\n",
    "class ModeloRegresion(nn.Module):\n",
    "    def __init__(self):\n",
    "        super().__init__()\n",
    "        self.linear = nn.Linear(1, 1)  # Capa lineal\n",
    "\n",
    "    def forward(self, x):\n",
    "        return self.linear(x)\n",
    "\n",
    "modelo = ModeloRegresion()\n",
    "\n",
    "# Función de pérdida y optimizador\n",
    "criterio = nn.MSELoss()\n",
    "optimizador = torch.optim.SGD(modelo.parameters(), lr=0.01)\n",
    "\n",
    "# Entrenamiento\n",
    "epochs = 100\n",
    "for epoch in range(epochs):\n",
    "    # Forward pass\n",
    "    y_pred = modelo(X_tensor)\n",
    "\n",
    "    # Calcular pérdida\n",
    "    perdida = criterio(y_pred, y_tensor)\n",
    "\n",
    "    # Backward pass\n",
    "    optimizador.zero_grad()\n",
    "    perdida.backward()\n",
    "    optimizador.step()\n",
    "\n",
    "    if (epoch+1) % 20 == 0:\n",
    "        print(f'Epoch {epoch+1}, Pérdida: {perdida.item():.4f}')\n",
    "\n",
    "# Predicciones\n",
    "with torch.no_grad():\n",
    "    y_pred_tensor = modelo(X_tensor)\n",
    "\n",
    "# Visualización\n",
    "plt.figure(figsize=(8, 4))\n",
    "plt.scatter(X, y, color='blue', label='Datos reales')\n",
    "plt.plot(X, y_pred_tensor.numpy(), color='red', linewidth=2, label='Predicción')\n",
    "plt.title(\"Regresión Lineal con PyTorch\")\n",
    "plt.xlabel(\"X\")\n",
    "plt.ylabel(\"y\")\n",
    "plt.legend()\n",
    "plt.show()\n",
    "\n",
    "# Parámetros aprendidos\n",
    "peso = modelo.linear.weight.item()\n",
    "sesgo = modelo.linear.bias.item()\n",
    "print(f\"\\nParámetros aprendidos: y = {peso:.2f}x + {sesgo:.2f}\")"
   ]
  }
 ],
 "metadata": {
  "kernelspec": {
   "display_name": "machine-learning-examples",
   "language": "python",
   "name": "python3"
  },
  "language_info": {
   "codemirror_mode": {
    "name": "ipython",
    "version": 3
   },
   "file_extension": ".py",
   "mimetype": "text/x-python",
   "name": "python",
   "nbconvert_exporter": "python",
   "pygments_lexer": "ipython3",
   "version": "3.10.16"
  }
 },
 "nbformat": 4,
 "nbformat_minor": 5
}
