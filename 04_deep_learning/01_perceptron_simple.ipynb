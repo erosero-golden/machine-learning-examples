{
 "cells": [
  {
   "cell_type": "markdown",
   "metadata": {},
   "source": [
    "# Perceptrón Simple"
   ]
  },
  {
   "cell_type": "code",
   "execution_count": 21,
   "metadata": {},
   "outputs": [],
   "source": [
    "import numpy as np\n",
    "import tensorflow as tf\n",
    "import random as python_random"
   ]
  },
  {
   "cell_type": "code",
   "execution_count": null,
   "metadata": {},
   "outputs": [],
   "source": [
    "def reset_seeds():\n",
    "   np.random.seed(21) \n",
    "   python_random.seed(211)\n",
    "   tf.random.set_seed(2111)\n",
    "\n",
    "reset_seeds() "
   ]
  },
  {
   "cell_type": "code",
   "execution_count": 22,
   "metadata": {},
   "outputs": [
    {
     "name": "stdout",
     "output_type": "stream",
     "text": [
      "\u001b[1m1/1\u001b[0m \u001b[32m━━━━━━━━━━━━━━━━━━━━\u001b[0m\u001b[37m\u001b[0m \u001b[1m0s\u001b[0m 181ms/step - accuracy: 1.0000 - loss: 0.5240\n",
      "Accuracy: 1.0\n",
      "\u001b[1m1/1\u001b[0m \u001b[32m━━━━━━━━━━━━━━━━━━━━\u001b[0m\u001b[37m\u001b[0m \u001b[1m0s\u001b[0m 92ms/step\n",
      "Prediction: [[0.31083682]\n",
      " [0.47846493]\n",
      " [0.3639944 ]\n",
      " [0.5379139 ]]\n",
      "\n",
      "Predicciones:\n",
      "Entrada: [0 0] - Predicción: 0.31 - Clase Predicha: 0\n",
      "Entrada: [0 1] - Predicción: 0.48 - Clase Predicha: 0\n",
      "Entrada: [1 0] - Predicción: 0.36 - Clase Predicha: 0\n",
      "Entrada: [1 1] - Predicción: 0.54 - Clase Predicha: 1\n"
     ]
    }
   ],
   "source": [
    "import tensorflow as tf\n",
    "import numpy as np\n",
    "from tensorflow.keras.models import Sequential\n",
    "from tensorflow.keras.layers import Dense\n",
    "\n",
    "# Definimos los datos de entrada y salida esperados\n",
    "X = np.array([\n",
    "    [0, 0], \n",
    "    [0, 1], \n",
    "    [1, 0], \n",
    "    [1, 1]\n",
    "    ], dtype=np.int32)\n",
    "y = np.array([\n",
    "    [0], \n",
    "    [0], \n",
    "    [0], \n",
    "    [1]\n",
    "    ], dtype=np.int32)\n",
    "\n",
    "# Definimos el modelo del perceptrón\n",
    "model = Sequential([\n",
    "    Dense(units=1, activation='sigmoid', input_shape=(2,))\n",
    "])\n",
    "\n",
    "\n",
    "# Compilamos el modelo\n",
    "model.compile(loss='binary_crossentropy', optimizer='adam', metrics=['accuracy'])\n",
    "\n",
    "# Entrenamos el modelo\n",
    "model.fit(X, y, epochs=1000, verbose=0)\n",
    "\n",
    "# Evaluamos el modelo\n",
    "_, accuracy = model.evaluate(X, y)\n",
    "print('Accuracy:', accuracy)\n",
    "\n",
    "# Hacemos una predicción\n",
    "new_data = np.array([[0, 1]])\n",
    "prediction = model.predict(X)\n",
    "print('Prediction:', prediction)\n",
    "\n",
    "print(\"\\nPredicciones:\")\n",
    "for i, pred in enumerate(prediction):\n",
    "    print(f\"Entrada: {X[i]} - Predicción: {pred[0]:.2f} - Clase Predicha: {int(pred[0] > 0.5)}\")"
   ]
  },
  {
   "cell_type": "code",
   "execution_count": null,
   "metadata": {},
   "outputs": [],
   "source": []
  }
 ],
 "metadata": {
  "kernelspec": {
   "display_name": ".venv",
   "language": "python",
   "name": "python3"
  },
  "language_info": {
   "codemirror_mode": {
    "name": "ipython",
    "version": 3
   },
   "file_extension": ".py",
   "mimetype": "text/x-python",
   "name": "python",
   "nbconvert_exporter": "python",
   "pygments_lexer": "ipython3",
   "version": "3.12.3"
  }
 },
 "nbformat": 4,
 "nbformat_minor": 2
}
