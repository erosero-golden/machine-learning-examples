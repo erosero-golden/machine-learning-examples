{
 "cells": [
  {
   "cell_type": "markdown",
   "metadata": {},
   "source": [
    "# Ejemplo de Red Neuronal con Aprendizaje No Supervisado"
   ]
  },
  {
   "cell_type": "markdown",
   "metadata": {},
   "source": [
    "Para instalar los drivers de nvidia\n",
    "[Nvidia Developer](https://developer.nvidia.com/cuda-downloads?target_os=Windows)"
   ]
  },
  {
   "cell_type": "code",
   "execution_count": 1,
   "metadata": {},
   "outputs": [
    {
     "name": "stderr",
     "output_type": "stream",
     "text": [
      "2024-12-26 19:40:05.636161: I tensorflow/core/util/port.cc:153] oneDNN custom operations are on. You may see slightly different numerical results due to floating-point round-off errors from different computation orders. To turn them off, set the environment variable `TF_ENABLE_ONEDNN_OPTS=0`.\n",
      "2024-12-26 19:40:05.649482: E external/local_xla/xla/stream_executor/cuda/cuda_fft.cc:477] Unable to register cuFFT factory: Attempting to register factory for plugin cuFFT when one has already been registered\n",
      "WARNING: All log messages before absl::InitializeLog() is called are written to STDERR\n",
      "E0000 00:00:1735260005.666543  710969 cuda_dnn.cc:8310] Unable to register cuDNN factory: Attempting to register factory for plugin cuDNN when one has already been registered\n",
      "E0000 00:00:1735260005.671571  710969 cuda_blas.cc:1418] Unable to register cuBLAS factory: Attempting to register factory for plugin cuBLAS when one has already been registered\n",
      "2024-12-26 19:40:05.688654: I tensorflow/core/platform/cpu_feature_guard.cc:210] This TensorFlow binary is optimized to use available CPU instructions in performance-critical operations.\n",
      "To enable the following instructions: AVX2 AVX_VNNI FMA, in other operations, rebuild TensorFlow with the appropriate compiler flags.\n"
     ]
    }
   ],
   "source": [
    "import numpy as np\n",
    "import tensorflow as tf\n",
    "from tensorflow.keras.layers import Input, Dense\n",
    "from tensorflow.keras.models import Model\n",
    "from sklearn.cluster import KMeans\n",
    "from sklearn.datasets import make_blobs"
   ]
  },
  {
   "cell_type": "code",
   "execution_count": 2,
   "metadata": {},
   "outputs": [
    {
     "name": "stderr",
     "output_type": "stream",
     "text": [
      "2024-12-26 19:40:09.113365: E external/local_xla/xla/stream_executor/cuda/cuda_driver.cc:152] failed call to cuInit: INTERNAL: CUDA error: Failed call to cuInit: CUDA_ERROR_COMPAT_NOT_SUPPORTED_ON_DEVICE: forward compatibility was attempted on non supported HW\n",
      "2024-12-26 19:40:09.113430: I external/local_xla/xla/stream_executor/cuda/cuda_diagnostics.cc:137] retrieving CUDA diagnostic information for host: ragnarok\n",
      "2024-12-26 19:40:09.113438: I external/local_xla/xla/stream_executor/cuda/cuda_diagnostics.cc:144] hostname: ragnarok\n",
      "2024-12-26 19:40:09.113542: I external/local_xla/xla/stream_executor/cuda/cuda_diagnostics.cc:168] libcuda reported version is: 560.35.5\n",
      "2024-12-26 19:40:09.113565: I external/local_xla/xla/stream_executor/cuda/cuda_diagnostics.cc:172] kernel reported version is: 535.183.1\n",
      "2024-12-26 19:40:09.113576: E external/local_xla/xla/stream_executor/cuda/cuda_diagnostics.cc:262] kernel version 535.183.1 does not match DSO version 560.35.5 -- cannot find working devices in this configuration\n"
     ]
    }
   ],
   "source": [
    "gpus = tf.config.experimental.list_physical_devices('GPU')\n",
    "if gpus:\n",
    "  try:\n",
    "    tf.config.experimental.set_virtual_device_configuration(\n",
    "        gpus[0],[tf.config.experimental.VirtualDeviceConfiguration(memory_limit=5120)])\n",
    "  except RuntimeError as e:\n",
    "    print(e)"
   ]
  },
  {
   "cell_type": "code",
   "execution_count": 3,
   "metadata": {},
   "outputs": [
    {
     "data": {
      "text/plain": [
       "array([[-10.86666274,   8.50276908,   5.31228432, ...,   0.62908701,\n",
       "         -1.45621127,  -4.50845482],\n",
       "       [ -9.33574127,  10.78272909,   7.09305114, ...,   0.39721339,\n",
       "          0.91133509,  -3.28638007],\n",
       "       [ -3.93100829,  10.51561978,   4.317199  , ...,   9.48852526,\n",
       "          1.378782  ,   5.08929168],\n",
       "       ...,\n",
       "       [  2.15396857,  -6.56124086,  -4.74150801, ...,   1.64398637,\n",
       "          1.70115187,  -9.72761582],\n",
       "       [  2.86473831,  -5.54548096,  -3.89335144, ...,  -1.23520403,\n",
       "          2.77454887,  -9.45699432],\n",
       "       [  1.26423   ,  -7.2476863 ,  -3.58734811, ...,  -0.09493573,\n",
       "          2.70544977,  -7.54635315]])"
      ]
     },
     "execution_count": 3,
     "metadata": {},
     "output_type": "execute_result"
    }
   ],
   "source": [
    "# Generar datos no etiquetados\n",
    "data, _ = make_blobs(n_samples=1000, centers=3, n_features=10, random_state=42)\n",
    "data"
   ]
  },
  {
   "cell_type": "code",
   "execution_count": 4,
   "metadata": {},
   "outputs": [],
   "source": [
    "# Construcción del autoencoder\n",
    "input_dim = data.shape[1]\n",
    "encoding_dim = 2  # Dimensión reducida\n",
    "\n",
    "input_layer = Input(shape=(input_dim,))\n",
    "encoded = Dense(encoding_dim, activation='relu')(input_layer)\n",
    "decoded = Dense(input_dim, activation='sigmoid')(encoded)\n",
    "\n",
    "autoencoder = Model(inputs=input_layer, outputs=decoded)\n",
    "encoder = Model(inputs=input_layer, outputs=encoded)"
   ]
  },
  {
   "cell_type": "code",
   "execution_count": 5,
   "metadata": {},
   "outputs": [
    {
     "data": {
      "text/plain": [
       "<keras.src.callbacks.history.History at 0x7d6c4bcb9670>"
      ]
     },
     "execution_count": 5,
     "metadata": {},
     "output_type": "execute_result"
    }
   ],
   "source": [
    "autoencoder.compile(optimizer='adam', loss='mse')\n",
    "autoencoder.fit(data, data, epochs=50, batch_size=8, verbose=0)"
   ]
  },
  {
   "cell_type": "code",
   "execution_count": 6,
   "metadata": {},
   "outputs": [
    {
     "name": "stdout",
     "output_type": "stream",
     "text": [
      "\u001b[1m32/32\u001b[0m \u001b[32m━━━━━━━━━━━━━━━━━━━━\u001b[0m\u001b[37m\u001b[0m \u001b[1m0s\u001b[0m 820us/step\n"
     ]
    }
   ],
   "source": [
    "# Extracción de características reducidas\n",
    "reduced_data = encoder.predict(data)"
   ]
  },
  {
   "cell_type": "code",
   "execution_count": 7,
   "metadata": {},
   "outputs": [
    {
     "name": "stdout",
     "output_type": "stream",
     "text": [
      "Etiquetas de los clústeres: [1 1 2 2 1 0 1 2 0 1 2 1 2 1 0 1 2 2 0 2 0 2 0 1 2 1 0 2 1 2 0 0 1 0 2 2 1\n",
      " 1 2 0 1 0 2 0 2 2 0 2 2 2 2 2 0 2 0 1 0 2 2 1 1 2 1 0 0 0 1 2 0 0 1 1 2 2\n",
      " 0 1 1 1 0 2 1 2 1 0 1 0 1 1 0 1 2 1 2 2 2 2 2 1 2 0 2 0 2 2 0 2 2 0 2 0 2\n",
      " 1 2 2 0 0 0 0 0 0 1 2 1 0 1 0 0 1 2 1 2 2 2 1 0 0 0 1 1 1 2 1 1 1 1 0 1 0\n",
      " 0 0 1 1 1 0 1 1 0 0 2 2 1 2 1 0 1 0 2 2 1 1 1 1 0 0 1 2 1 2 2 1 2 2 1 2 2\n",
      " 1 1 0 0 0 1 1 0 2 1 0 0 0 1 2 0 1 2 1 2 2 0 2 2 2 1 0 2 2 2 0 0 0 2 0 0 0\n",
      " 0 2 1 1 1 0 1 2 0 2 1 1 0 1 1 2 1 2 2 2 0 0 1 0 2 1 0 2 1 0 0 0 2 0 2 1 1\n",
      " 2 1 0 1 1 1 2 0 0 2 1 0 0 0 1 2 2 2 0 0 0 2 0 1 0 2 1 2 1 2 2 1 2 0 2 1 1\n",
      " 2 2 0 1 0 2 0 1 2 2 1 0 0 2 0 1 1 2 2 2 0 0 1 0 1 1 1 0 0 1 0 2 2 1 2 1 0\n",
      " 0 2 0 2 2 0 2 1 1 0 0 2 2 1 0 0 1 1 1 1 0 2 0 2 1 2 2 0 1 1 1 2 0 1 1 1 2\n",
      " 2 2 2 1 1 1 2 0 2 2 0 2 2 1 1 1 2 1 0 0 2 0 1 2 0 0 0 2 0 0 2 2 1 1 2 1 0\n",
      " 1 1 1 0 0 0 0 2 0 1 0 1 2 2 2 0 0 1 1 2 1 0 1 1 0 2 0 0 1 1 0 0 0 0 1 0 1\n",
      " 1 1 1 0 0 0 2 2 0 0 0 0 2 1 2 0 1 2 2 1 1 0 0 0 2 1 1 1 2 1 1 1 0 0 2 2 1\n",
      " 1 2 2 1 1 0 1 1 0 0 1 2 0 0 1 2 0 2 2 1 0 0 1 1 1 0 0 0 1 1 1 1 2 2 0 2 2\n",
      " 2 0 2 0 0 2 1 2 2 2 0 2 2 0 2 2 2 0 1 2 2 1 2 0 0 1 2 1 2 1 0 0 0 0 1 2 2\n",
      " 1 0 2 1 2 2 0 2 1 2 1 1 1 1 0 0 2 0 2 2 1 0 2 0 0 1 0 1 0 2 1 0 2 0 2 1 2\n",
      " 0 0 0 0 0 1 2 1 1 2 0 0 2 2 0 1 2 2 2 1 0 0 0 2 0 0 1 1 2 1 1 1 0 1 2 1 1\n",
      " 2 2 0 2 2 2 2 1 2 0 2 0 2 2 1 0 1 1 2 2 1 0 2 1 1 1 1 0 1 2 2 0 1 0 1 1 1\n",
      " 0 0 1 0 0 0 0 0 1 1 2 0 1 1 1 2 1 0 1 2 2 2 1 0 1 0 0 0 1 2 1 1 2 2 0 0 2\n",
      " 1 1 2 2 1 2 2 2 1 0 0 0 2 0 1 2 0 1 2 0 1 0 1 1 1 1 2 0 2 1 1 1 1 1 2 1 1\n",
      " 1 2 2 0 2 1 0 0 2 2 2 2 2 2 0 1 0 0 0 0 1 0 2 2 2 2 1 0 0 1 1 1 1 2 0 0 0\n",
      " 2 0 0 2 0 0 0 2 0 2 0 1 1 0 0 1 0 2 2 2 2 0 0 1 2 1 1 2 1 2 2 2 2 2 2 2 2\n",
      " 0 2 1 0 0 2 1 0 2 0 1 1 0 1 2 0 1 2 1 2 0 1 0 1 0 2 1 2 1 1 2 2 0 0 0 1 0\n",
      " 2 0 1 0 1 0 0 2 0 1 1 1 2 2 2 0 2 2 2 2 0 2 0 2 2 2 1 0 0 2 2 0 1 0 2 0 0\n",
      " 1 0 1 0 1 1 2 2 2 2 1 0 0 1 1 2 1 1 0 0 2 1 1 0 0 0 2 0 1 2 2 0 2 0 2 1 1\n",
      " 0 1 0 0 2 0 1 1 1 0 1 2 0 1 0 1 0 1 0 2 1 1 2 0 1 2 1 2 2 1 0 0 1 1 2 1 0\n",
      " 2 0 1 2 1 2 2 0 2 2 1 1 0 0 1 0 0 1 2 2 0 2 2 2 0 2 1 2 1 0 0 1 2 1 1 0 0\n",
      " 0]\n"
     ]
    }
   ],
   "source": [
    "# Agrupamiento con KMeans\n",
    "kmeans = KMeans(n_clusters=3)\n",
    "clusters = kmeans.fit_predict(reduced_data)\n",
    "\n",
    "print(\"Etiquetas de los clústeres:\", clusters)\n"
   ]
  },
  {
   "cell_type": "code",
   "execution_count": null,
   "metadata": {},
   "outputs": [],
   "source": []
  }
 ],
 "metadata": {
  "kernelspec": {
   "display_name": ".venv",
   "language": "python",
   "name": "python3"
  },
  "language_info": {
   "codemirror_mode": {
    "name": "ipython",
    "version": 3
   },
   "file_extension": ".py",
   "mimetype": "text/x-python",
   "name": "python",
   "nbconvert_exporter": "python",
   "pygments_lexer": "ipython3",
   "version": "3.12.3"
  }
 },
 "nbformat": 4,
 "nbformat_minor": 2
}
