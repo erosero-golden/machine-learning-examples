{
 "cells": [
  {
   "cell_type": "markdown",
   "metadata": {},
   "source": [
    "# Introducción a tensorflow"
   ]
  },
  {
   "cell_type": "markdown",
   "metadata": {},
   "source": [
    "### Instalar tensofrlow"
   ]
  },
  {
   "cell_type": "code",
   "execution_count": 1,
   "metadata": {},
   "outputs": [
    {
     "name": "stdout",
     "output_type": "stream",
     "text": [
      "Requirement already satisfied: tensorflow[and-cuda] in /home/tuteggito/Downloads/big data/material/.venv/lib/python3.12/site-packages (2.18.0)\n",
      "Requirement already satisfied: absl-py>=1.0.0 in /home/tuteggito/Downloads/big data/material/.venv/lib/python3.12/site-packages (from tensorflow[and-cuda]) (2.1.0)\n",
      "Requirement already satisfied: astunparse>=1.6.0 in /home/tuteggito/Downloads/big data/material/.venv/lib/python3.12/site-packages (from tensorflow[and-cuda]) (1.6.3)\n",
      "Requirement already satisfied: flatbuffers>=24.3.25 in /home/tuteggito/Downloads/big data/material/.venv/lib/python3.12/site-packages (from tensorflow[and-cuda]) (24.12.23)\n",
      "Requirement already satisfied: gast!=0.5.0,!=0.5.1,!=0.5.2,>=0.2.1 in /home/tuteggito/Downloads/big data/material/.venv/lib/python3.12/site-packages (from tensorflow[and-cuda]) (0.6.0)\n",
      "Requirement already satisfied: google-pasta>=0.1.1 in /home/tuteggito/Downloads/big data/material/.venv/lib/python3.12/site-packages (from tensorflow[and-cuda]) (0.2.0)\n",
      "Requirement already satisfied: libclang>=13.0.0 in /home/tuteggito/Downloads/big data/material/.venv/lib/python3.12/site-packages (from tensorflow[and-cuda]) (18.1.1)\n",
      "Requirement already satisfied: opt-einsum>=2.3.2 in /home/tuteggito/Downloads/big data/material/.venv/lib/python3.12/site-packages (from tensorflow[and-cuda]) (3.4.0)\n",
      "Requirement already satisfied: packaging in /home/tuteggito/Downloads/big data/material/.venv/lib/python3.12/site-packages (from tensorflow[and-cuda]) (24.2)\n",
      "Requirement already satisfied: protobuf!=4.21.0,!=4.21.1,!=4.21.2,!=4.21.3,!=4.21.4,!=4.21.5,<6.0.0dev,>=3.20.3 in /home/tuteggito/Downloads/big data/material/.venv/lib/python3.12/site-packages (from tensorflow[and-cuda]) (5.29.2)\n",
      "Requirement already satisfied: requests<3,>=2.21.0 in /home/tuteggito/Downloads/big data/material/.venv/lib/python3.12/site-packages (from tensorflow[and-cuda]) (2.32.3)\n",
      "Requirement already satisfied: setuptools in /home/tuteggito/Downloads/big data/material/.venv/lib/python3.12/site-packages (from tensorflow[and-cuda]) (75.6.0)\n",
      "Requirement already satisfied: six>=1.12.0 in /home/tuteggito/Downloads/big data/material/.venv/lib/python3.12/site-packages (from tensorflow[and-cuda]) (1.17.0)\n",
      "Requirement already satisfied: termcolor>=1.1.0 in /home/tuteggito/Downloads/big data/material/.venv/lib/python3.12/site-packages (from tensorflow[and-cuda]) (2.5.0)\n",
      "Requirement already satisfied: typing-extensions>=3.6.6 in /home/tuteggito/Downloads/big data/material/.venv/lib/python3.12/site-packages (from tensorflow[and-cuda]) (4.12.2)\n",
      "Requirement already satisfied: wrapt>=1.11.0 in /home/tuteggito/Downloads/big data/material/.venv/lib/python3.12/site-packages (from tensorflow[and-cuda]) (1.17.0)\n",
      "Requirement already satisfied: grpcio<2.0,>=1.24.3 in /home/tuteggito/Downloads/big data/material/.venv/lib/python3.12/site-packages (from tensorflow[and-cuda]) (1.68.1)\n",
      "Requirement already satisfied: tensorboard<2.19,>=2.18 in /home/tuteggito/Downloads/big data/material/.venv/lib/python3.12/site-packages (from tensorflow[and-cuda]) (2.18.0)\n",
      "Requirement already satisfied: keras>=3.5.0 in /home/tuteggito/Downloads/big data/material/.venv/lib/python3.12/site-packages (from tensorflow[and-cuda]) (3.7.0)\n",
      "Requirement already satisfied: numpy<2.1.0,>=1.26.0 in /home/tuteggito/Downloads/big data/material/.venv/lib/python3.12/site-packages (from tensorflow[and-cuda]) (1.26.4)\n",
      "Requirement already satisfied: h5py>=3.11.0 in /home/tuteggito/Downloads/big data/material/.venv/lib/python3.12/site-packages (from tensorflow[and-cuda]) (3.12.1)\n",
      "Requirement already satisfied: ml-dtypes<0.5.0,>=0.4.0 in /home/tuteggito/Downloads/big data/material/.venv/lib/python3.12/site-packages (from tensorflow[and-cuda]) (0.4.1)\n",
      "Requirement already satisfied: nvidia-cublas-cu12==12.5.3.2 in /home/tuteggito/Downloads/big data/material/.venv/lib/python3.12/site-packages (from tensorflow[and-cuda]) (12.5.3.2)\n",
      "Requirement already satisfied: nvidia-cuda-cupti-cu12==12.5.82 in /home/tuteggito/Downloads/big data/material/.venv/lib/python3.12/site-packages (from tensorflow[and-cuda]) (12.5.82)\n",
      "Requirement already satisfied: nvidia-cuda-nvcc-cu12==12.5.82 in /home/tuteggito/Downloads/big data/material/.venv/lib/python3.12/site-packages (from tensorflow[and-cuda]) (12.5.82)\n",
      "Requirement already satisfied: nvidia-cuda-nvrtc-cu12==12.5.82 in /home/tuteggito/Downloads/big data/material/.venv/lib/python3.12/site-packages (from tensorflow[and-cuda]) (12.5.82)\n",
      "Requirement already satisfied: nvidia-cuda-runtime-cu12==12.5.82 in /home/tuteggito/Downloads/big data/material/.venv/lib/python3.12/site-packages (from tensorflow[and-cuda]) (12.5.82)\n",
      "Requirement already satisfied: nvidia-cudnn-cu12==9.3.0.75 in /home/tuteggito/Downloads/big data/material/.venv/lib/python3.12/site-packages (from tensorflow[and-cuda]) (9.3.0.75)\n",
      "Requirement already satisfied: nvidia-cufft-cu12==11.2.3.61 in /home/tuteggito/Downloads/big data/material/.venv/lib/python3.12/site-packages (from tensorflow[and-cuda]) (11.2.3.61)\n",
      "Requirement already satisfied: nvidia-curand-cu12==10.3.6.82 in /home/tuteggito/Downloads/big data/material/.venv/lib/python3.12/site-packages (from tensorflow[and-cuda]) (10.3.6.82)\n",
      "Requirement already satisfied: nvidia-cusolver-cu12==11.6.3.83 in /home/tuteggito/Downloads/big data/material/.venv/lib/python3.12/site-packages (from tensorflow[and-cuda]) (11.6.3.83)\n",
      "Requirement already satisfied: nvidia-cusparse-cu12==12.5.1.3 in /home/tuteggito/Downloads/big data/material/.venv/lib/python3.12/site-packages (from tensorflow[and-cuda]) (12.5.1.3)\n",
      "Requirement already satisfied: nvidia-nccl-cu12==2.21.5 in /home/tuteggito/Downloads/big data/material/.venv/lib/python3.12/site-packages (from tensorflow[and-cuda]) (2.21.5)\n",
      "Requirement already satisfied: nvidia-nvjitlink-cu12==12.5.82 in /home/tuteggito/Downloads/big data/material/.venv/lib/python3.12/site-packages (from tensorflow[and-cuda]) (12.5.82)\n",
      "Requirement already satisfied: wheel<1.0,>=0.23.0 in /home/tuteggito/Downloads/big data/material/.venv/lib/python3.12/site-packages (from astunparse>=1.6.0->tensorflow[and-cuda]) (0.45.1)\n",
      "Requirement already satisfied: rich in /home/tuteggito/Downloads/big data/material/.venv/lib/python3.12/site-packages (from keras>=3.5.0->tensorflow[and-cuda]) (13.9.4)\n",
      "Requirement already satisfied: namex in /home/tuteggito/Downloads/big data/material/.venv/lib/python3.12/site-packages (from keras>=3.5.0->tensorflow[and-cuda]) (0.0.8)\n",
      "Requirement already satisfied: optree in /home/tuteggito/Downloads/big data/material/.venv/lib/python3.12/site-packages (from keras>=3.5.0->tensorflow[and-cuda]) (0.13.1)\n",
      "Requirement already satisfied: charset-normalizer<4,>=2 in /home/tuteggito/Downloads/big data/material/.venv/lib/python3.12/site-packages (from requests<3,>=2.21.0->tensorflow[and-cuda]) (3.4.0)\n",
      "Requirement already satisfied: idna<4,>=2.5 in /home/tuteggito/Downloads/big data/material/.venv/lib/python3.12/site-packages (from requests<3,>=2.21.0->tensorflow[and-cuda]) (3.10)\n",
      "Requirement already satisfied: urllib3<3,>=1.21.1 in /home/tuteggito/Downloads/big data/material/.venv/lib/python3.12/site-packages (from requests<3,>=2.21.0->tensorflow[and-cuda]) (2.2.3)\n",
      "Requirement already satisfied: certifi>=2017.4.17 in /home/tuteggito/Downloads/big data/material/.venv/lib/python3.12/site-packages (from requests<3,>=2.21.0->tensorflow[and-cuda]) (2024.12.14)\n",
      "Requirement already satisfied: markdown>=2.6.8 in /home/tuteggito/Downloads/big data/material/.venv/lib/python3.12/site-packages (from tensorboard<2.19,>=2.18->tensorflow[and-cuda]) (3.7)\n",
      "Requirement already satisfied: tensorboard-data-server<0.8.0,>=0.7.0 in /home/tuteggito/Downloads/big data/material/.venv/lib/python3.12/site-packages (from tensorboard<2.19,>=2.18->tensorflow[and-cuda]) (0.7.2)\n",
      "Requirement already satisfied: werkzeug>=1.0.1 in /home/tuteggito/Downloads/big data/material/.venv/lib/python3.12/site-packages (from tensorboard<2.19,>=2.18->tensorflow[and-cuda]) (3.1.3)\n",
      "Requirement already satisfied: MarkupSafe>=2.1.1 in /home/tuteggito/Downloads/big data/material/.venv/lib/python3.12/site-packages (from werkzeug>=1.0.1->tensorboard<2.19,>=2.18->tensorflow[and-cuda]) (3.0.2)\n",
      "Requirement already satisfied: markdown-it-py>=2.2.0 in /home/tuteggito/Downloads/big data/material/.venv/lib/python3.12/site-packages (from rich->keras>=3.5.0->tensorflow[and-cuda]) (3.0.0)\n",
      "Requirement already satisfied: pygments<3.0.0,>=2.13.0 in /home/tuteggito/Downloads/big data/material/.venv/lib/python3.12/site-packages (from rich->keras>=3.5.0->tensorflow[and-cuda]) (2.18.0)\n",
      "Requirement already satisfied: mdurl~=0.1 in /home/tuteggito/Downloads/big data/material/.venv/lib/python3.12/site-packages (from markdown-it-py>=2.2.0->rich->keras>=3.5.0->tensorflow[and-cuda]) (0.1.2)\n",
      "Note: you may need to restart the kernel to use updated packages.\n"
     ]
    }
   ],
   "source": [
    "%pip install tensorflow[and-cuda]"
   ]
  },
  {
   "cell_type": "markdown",
   "metadata": {},
   "source": [
    "### Importar tensorflow"
   ]
  },
  {
   "cell_type": "code",
   "execution_count": 2,
   "metadata": {},
   "outputs": [
    {
     "name": "stderr",
     "output_type": "stream",
     "text": [
      "2025-01-09 17:37:39.288251: I tensorflow/core/util/port.cc:153] oneDNN custom operations are on. You may see slightly different numerical results due to floating-point round-off errors from different computation orders. To turn them off, set the environment variable `TF_ENABLE_ONEDNN_OPTS=0`.\n",
      "2025-01-09 17:37:39.300830: E external/local_xla/xla/stream_executor/cuda/cuda_fft.cc:477] Unable to register cuFFT factory: Attempting to register factory for plugin cuFFT when one has already been registered\n",
      "WARNING: All log messages before absl::InitializeLog() is called are written to STDERR\n",
      "E0000 00:00:1736462259.316178  117297 cuda_dnn.cc:8310] Unable to register cuDNN factory: Attempting to register factory for plugin cuDNN when one has already been registered\n",
      "E0000 00:00:1736462259.320910  117297 cuda_blas.cc:1418] Unable to register cuBLAS factory: Attempting to register factory for plugin cuBLAS when one has already been registered\n",
      "2025-01-09 17:37:39.337027: I tensorflow/core/platform/cpu_feature_guard.cc:210] This TensorFlow binary is optimized to use available CPU instructions in performance-critical operations.\n",
      "To enable the following instructions: AVX2 AVX_VNNI FMA, in other operations, rebuild TensorFlow with the appropriate compiler flags.\n"
     ]
    }
   ],
   "source": [
    "import tensorflow as tf"
   ]
  },
  {
   "cell_type": "markdown",
   "metadata": {},
   "source": [
    "### Tensores"
   ]
  },
  {
   "cell_type": "code",
   "execution_count": 3,
   "metadata": {},
   "outputs": [
    {
     "name": "stdout",
     "output_type": "stream",
     "text": [
      "tf.Tensor(\n",
      "[[1. 2.]\n",
      " [3. 4.]], shape=(2, 2), dtype=float32)\n",
      "tf.Tensor(\n",
      "[[1. 1.]\n",
      " [0. 1.]], shape=(2, 2), dtype=float32)\n"
     ]
    },
    {
     "name": "stderr",
     "output_type": "stream",
     "text": [
      "I0000 00:00:1736462262.104036  117297 gpu_device.cc:2022] Created device /job:localhost/replica:0/task:0/device:GPU:0 with 4143 MB memory:  -> device: 0, name: NVIDIA GeForce RTX 3060 Laptop GPU, pci bus id: 0000:01:00.0, compute capability: 8.6\n"
     ]
    }
   ],
   "source": [
    "# Compute some values using a Tensor\n",
    "c = tf.constant([[1.0, 2.0], [3.0, 4.0]])\n",
    "d = tf.constant([[1.0, 1.0], [0.0, 1.0]])\n",
    "print(c)\n",
    "print(d)\n",
    "\n"
   ]
  },
  {
   "cell_type": "markdown",
   "metadata": {},
   "source": [
    "### Operaciones básicas con tensores"
   ]
  },
  {
   "cell_type": "code",
   "execution_count": 4,
   "metadata": {},
   "outputs": [
    {
     "name": "stdout",
     "output_type": "stream",
     "text": [
      "Suma: [5. 7. 9.]\n",
      "Multiplicación: [ 4. 10. 18.]\n",
      "Promedio: 2.0\n"
     ]
    }
   ],
   "source": [
    "import tensorflow as tf\n",
    "\n",
    "# Crear tensores\n",
    "tensor_a = tf.constant([1, 2, 3], dtype=tf.float32)\n",
    "tensor_b = tf.constant([4, 5, 6], dtype=tf.float32)\n",
    "\n",
    "# Operaciones básicas\n",
    "suma = tf.add(tensor_a, tensor_b)\n",
    "multiplicacion = tf.multiply(tensor_a, tensor_b)\n",
    "promedio = tf.reduce_mean(tensor_a)\n",
    "\n",
    "print(\"Suma:\", suma.numpy())  # [5. 7. 9.]\n",
    "print(\"Multiplicación:\", multiplicacion.numpy())  # [4. 10. 18.]\n",
    "print(\"Promedio:\", promedio.numpy())  # 2.0\n"
   ]
  },
  {
   "cell_type": "code",
   "execution_count": 5,
   "metadata": {},
   "outputs": [
    {
     "data": {
      "text/plain": [
       "<tf.Tensor: shape=(3,), dtype=float32, numpy=array([5., 7., 9.], dtype=float32)>"
      ]
     },
     "execution_count": 5,
     "metadata": {},
     "output_type": "execute_result"
    }
   ],
   "source": [
    "suma"
   ]
  },
  {
   "cell_type": "markdown",
   "metadata": {},
   "source": [
    "### Operaciones avanzadas con tensores"
   ]
  },
  {
   "cell_type": "code",
   "execution_count": 6,
   "metadata": {},
   "outputs": [
    {
     "name": "stdout",
     "output_type": "stream",
     "text": [
      "Transpuesta:\n",
      " [[1. 3.]\n",
      " [2. 4.]]\n",
      "Producto de Matrices:\n",
      " [[19 22]\n",
      " [43 50]]\n"
     ]
    }
   ],
   "source": [
    "# Crear tensores con valores iniciales\n",
    "x = tf.constant([[1.0, 2.0], [3.0, 4.0]])\n",
    "\n",
    "# Calcular transpuesta\n",
    "transpuesta = tf.transpose(x)\n",
    "\n",
    "# Producto de matrices\n",
    "matriz_a = tf.constant([[1, 2], [3, 4]])\n",
    "matriz_b = tf.constant([[5, 6], [7, 8]])\n",
    "producto_matrices = tf.matmul(matriz_a, matriz_b)\n",
    "\n",
    "print(\"Transpuesta:\\n\", transpuesta.numpy())\n",
    "print(\"Producto de Matrices:\\n\", producto_matrices.numpy())\n"
   ]
  },
  {
   "cell_type": "code",
   "execution_count": 7,
   "metadata": {},
   "outputs": [
    {
     "data": {
      "text/plain": [
       "<tf.Tensor: shape=(2, 2), dtype=int32, numpy=\n",
       "array([[19, 22],\n",
       "       [43, 50]], dtype=int32)>"
      ]
     },
     "execution_count": 7,
     "metadata": {},
     "output_type": "execute_result"
    }
   ],
   "source": [
    "producto_matrices"
   ]
  },
  {
   "cell_type": "markdown",
   "metadata": {},
   "source": [
    "### Ejemplo de modelo básico con tensorflow"
   ]
  },
  {
   "cell_type": "code",
   "execution_count": 8,
   "metadata": {},
   "outputs": [
    {
     "name": "stderr",
     "output_type": "stream",
     "text": [
      "/home/tuteggito/Downloads/big data/material/.venv/lib/python3.12/site-packages/keras/src/layers/core/dense.py:87: UserWarning: Do not pass an `input_shape`/`input_dim` argument to a layer. When using Sequential models, prefer using an `Input(shape)` object as the first layer in the model instead.\n",
      "  super().__init__(activity_regularizer=activity_regularizer, **kwargs)\n",
      "WARNING: All log messages before absl::InitializeLog() is called are written to STDERR\n",
      "I0000 00:00:1736462262.957794  117501 service.cc:148] XLA service 0x702124003db0 initialized for platform CUDA (this does not guarantee that XLA will be used). Devices:\n",
      "I0000 00:00:1736462262.957817  117501 service.cc:156]   StreamExecutor device (0): NVIDIA GeForce RTX 3060 Laptop GPU, Compute Capability 8.6\n",
      "I0000 00:00:1736462262.981812  117501 cuda_dnn.cc:529] Loaded cuDNN version 90300\n",
      "I0000 00:00:1736462263.097989  117501 device_compiler.h:188] Compiled cluster using XLA!  This line is logged at most once for the lifetime of the process.\n"
     ]
    },
    {
     "data": {
      "text/plain": [
       "<keras.src.callbacks.history.History at 0x70228dd52c90>"
      ]
     },
     "execution_count": 8,
     "metadata": {},
     "output_type": "execute_result"
    }
   ],
   "source": [
    "import numpy as np\n",
    "import tensorflow as tf\n",
    "from tensorflow.keras.models import Sequential\n",
    "from tensorflow.keras.layers import Dense\n",
    "\n",
    "# Datos de entrenamiento\n",
    "x_train = np.array([1, 2, 3, 4, 5], dtype=np.float32)\n",
    "y_train = np.array([3, 5, 7, 9, 11], dtype=np.float32)  # y = 2x + 1\n",
    "\n",
    "# Construcción del modelo\n",
    "model = Sequential([\n",
    "    Dense(units=1, input_shape=[1])  # Una capa con una neurona\n",
    "])\n",
    "\n",
    "# Compilación del modelo\n",
    "model.compile(optimizer='sgd', loss='mean_squared_error')\n",
    "\n",
    "# Entrenamiento\n",
    "model.fit(x_train, y_train, epochs=500, verbose=0)\n"
   ]
  },
  {
   "cell_type": "code",
   "execution_count": 9,
   "metadata": {},
   "outputs": [
    {
     "name": "stdout",
     "output_type": "stream",
     "text": [
      "\u001b[1m1/1\u001b[0m \u001b[32m━━━━━━━━━━━━━━━━━━━━\u001b[0m\u001b[37m\u001b[0m \u001b[1m0s\u001b[0m 109ms/step\n",
      "Predicción para x=6: 13.010897\n"
     ]
    }
   ],
   "source": [
    "# Predicción\n",
    "prediccion = model.predict(np.array([6], dtype=np.float32))\n",
    "print(\"Predicción para x=6:\", prediccion[0][0])  # Aproximadamente 13"
   ]
  },
  {
   "cell_type": "code",
   "execution_count": null,
   "metadata": {},
   "outputs": [],
   "source": []
  }
 ],
 "metadata": {
  "kernelspec": {
   "display_name": ".venv",
   "language": "python",
   "name": "python3"
  },
  "language_info": {
   "codemirror_mode": {
    "name": "ipython",
    "version": 3
   },
   "file_extension": ".py",
   "mimetype": "text/x-python",
   "name": "python",
   "nbconvert_exporter": "python",
   "pygments_lexer": "ipython3",
   "version": "3.12.3"
  }
 },
 "nbformat": 4,
 "nbformat_minor": 2
}
